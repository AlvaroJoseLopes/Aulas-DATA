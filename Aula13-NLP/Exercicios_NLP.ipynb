{
  "nbformat": 4,
  "nbformat_minor": 0,
  "metadata": {
    "colab": {
      "provenance": [],
      "toc_visible": true
    },
    "kernelspec": {
      "name": "python3",
      "display_name": "Python 3"
    },
    "language_info": {
      "name": "python"
    }
  },
  "cells": [
    {
      "cell_type": "code",
      "source": [
        "# Não é preciso baixar o dataset se essa célula funcionar\n",
        "# Estou baixando os dados através do gdown\n",
        "!gdown 1NlfLv1MJhEciBZKN93LoxZCudGPZnE4J"
      ],
      "metadata": {
        "colab": {
          "base_uri": "https://localhost:8080/"
        },
        "id": "c7HGVZ5jlb5t",
        "outputId": "f8300da1-dc93-46dd-fac6-cdd4e7fd3863"
      },
      "execution_count": null,
      "outputs": [
        {
          "output_type": "stream",
          "name": "stdout",
          "text": [
            "Downloading...\n",
            "From: https://drive.google.com/uc?id=1NlfLv1MJhEciBZKN93LoxZCudGPZnE4J\n",
            "To: /content/imdb.csv\n",
            "100% 66.2M/66.2M [00:00<00:00, 104MB/s] \n"
          ]
        }
      ]
    },
    {
      "cell_type": "code",
      "source": [
        "import pandas as pd\n",
        "import numpy as np\n",
        "import seaborn as sns\n",
        "import matplotlib.pyplot as plt\n",
        "from tqdm import tqdm\n",
        "tqdm.pandas()\n",
        "from sklearn.model_selection import train_test_split\n",
        "import nltk \n",
        "from nltk.tokenize import word_tokenize\n",
        "nltk.download('punkt')\n",
        "nltk.download('stopwords')\n",
        "stopwords = set(nltk.corpus.stopwords.words('english'))   "
      ],
      "metadata": {
        "colab": {
          "base_uri": "https://localhost:8080/"
        },
        "id": "q4oR27yTmKOV",
        "outputId": "11ab2190-aa12-4d20-f85f-17352013fa44"
      },
      "execution_count": null,
      "outputs": [
        {
          "output_type": "stream",
          "name": "stderr",
          "text": [
            "[nltk_data] Downloading package punkt to /root/nltk_data...\n",
            "[nltk_data]   Unzipping tokenizers/punkt.zip.\n",
            "[nltk_data] Downloading package stopwords to /root/nltk_data...\n",
            "[nltk_data]   Unzipping corpora/stopwords.zip.\n"
          ]
        }
      ]
    },
    {
      "cell_type": "markdown",
      "source": [
        "## Lendo os dados"
      ],
      "metadata": {
        "id": "E70NnLqC74Vn"
      }
    },
    {
      "cell_type": "code",
      "source": [
        "df = pd.read_csv('imdb.csv')\n",
        "df.head()"
      ],
      "metadata": {
        "colab": {
          "base_uri": "https://localhost:8080/",
          "height": 206
        },
        "id": "Ay67MR4KmT1r",
        "outputId": "e6e6bcb7-a3b3-4e38-d9ba-607fb7a1d689"
      },
      "execution_count": null,
      "outputs": [
        {
          "output_type": "execute_result",
          "data": {
            "text/plain": [
              "                                              review sentiment\n",
              "0  One of the other reviewers has mentioned that ...  positive\n",
              "1  A wonderful little production. <br /><br />The...  positive\n",
              "2  I thought this was a wonderful way to spend ti...  positive\n",
              "3  Basically there's a family where a little boy ...  negative\n",
              "4  Petter Mattei's \"Love in the Time of Money\" is...  positive"
            ],
            "text/html": [
              "\n",
              "  <div id=\"df-452fec85-9f32-49a5-8fd9-3f515fdf1e5b\">\n",
              "    <div class=\"colab-df-container\">\n",
              "      <div>\n",
              "<style scoped>\n",
              "    .dataframe tbody tr th:only-of-type {\n",
              "        vertical-align: middle;\n",
              "    }\n",
              "\n",
              "    .dataframe tbody tr th {\n",
              "        vertical-align: top;\n",
              "    }\n",
              "\n",
              "    .dataframe thead th {\n",
              "        text-align: right;\n",
              "    }\n",
              "</style>\n",
              "<table border=\"1\" class=\"dataframe\">\n",
              "  <thead>\n",
              "    <tr style=\"text-align: right;\">\n",
              "      <th></th>\n",
              "      <th>review</th>\n",
              "      <th>sentiment</th>\n",
              "    </tr>\n",
              "  </thead>\n",
              "  <tbody>\n",
              "    <tr>\n",
              "      <th>0</th>\n",
              "      <td>One of the other reviewers has mentioned that ...</td>\n",
              "      <td>positive</td>\n",
              "    </tr>\n",
              "    <tr>\n",
              "      <th>1</th>\n",
              "      <td>A wonderful little production. &lt;br /&gt;&lt;br /&gt;The...</td>\n",
              "      <td>positive</td>\n",
              "    </tr>\n",
              "    <tr>\n",
              "      <th>2</th>\n",
              "      <td>I thought this was a wonderful way to spend ti...</td>\n",
              "      <td>positive</td>\n",
              "    </tr>\n",
              "    <tr>\n",
              "      <th>3</th>\n",
              "      <td>Basically there's a family where a little boy ...</td>\n",
              "      <td>negative</td>\n",
              "    </tr>\n",
              "    <tr>\n",
              "      <th>4</th>\n",
              "      <td>Petter Mattei's \"Love in the Time of Money\" is...</td>\n",
              "      <td>positive</td>\n",
              "    </tr>\n",
              "  </tbody>\n",
              "</table>\n",
              "</div>\n",
              "      <button class=\"colab-df-convert\" onclick=\"convertToInteractive('df-452fec85-9f32-49a5-8fd9-3f515fdf1e5b')\"\n",
              "              title=\"Convert this dataframe to an interactive table.\"\n",
              "              style=\"display:none;\">\n",
              "        \n",
              "  <svg xmlns=\"http://www.w3.org/2000/svg\" height=\"24px\"viewBox=\"0 0 24 24\"\n",
              "       width=\"24px\">\n",
              "    <path d=\"M0 0h24v24H0V0z\" fill=\"none\"/>\n",
              "    <path d=\"M18.56 5.44l.94 2.06.94-2.06 2.06-.94-2.06-.94-.94-2.06-.94 2.06-2.06.94zm-11 1L8.5 8.5l.94-2.06 2.06-.94-2.06-.94L8.5 2.5l-.94 2.06-2.06.94zm10 10l.94 2.06.94-2.06 2.06-.94-2.06-.94-.94-2.06-.94 2.06-2.06.94z\"/><path d=\"M17.41 7.96l-1.37-1.37c-.4-.4-.92-.59-1.43-.59-.52 0-1.04.2-1.43.59L10.3 9.45l-7.72 7.72c-.78.78-.78 2.05 0 2.83L4 21.41c.39.39.9.59 1.41.59.51 0 1.02-.2 1.41-.59l7.78-7.78 2.81-2.81c.8-.78.8-2.07 0-2.86zM5.41 20L4 18.59l7.72-7.72 1.47 1.35L5.41 20z\"/>\n",
              "  </svg>\n",
              "      </button>\n",
              "      \n",
              "  <style>\n",
              "    .colab-df-container {\n",
              "      display:flex;\n",
              "      flex-wrap:wrap;\n",
              "      gap: 12px;\n",
              "    }\n",
              "\n",
              "    .colab-df-convert {\n",
              "      background-color: #E8F0FE;\n",
              "      border: none;\n",
              "      border-radius: 50%;\n",
              "      cursor: pointer;\n",
              "      display: none;\n",
              "      fill: #1967D2;\n",
              "      height: 32px;\n",
              "      padding: 0 0 0 0;\n",
              "      width: 32px;\n",
              "    }\n",
              "\n",
              "    .colab-df-convert:hover {\n",
              "      background-color: #E2EBFA;\n",
              "      box-shadow: 0px 1px 2px rgba(60, 64, 67, 0.3), 0px 1px 3px 1px rgba(60, 64, 67, 0.15);\n",
              "      fill: #174EA6;\n",
              "    }\n",
              "\n",
              "    [theme=dark] .colab-df-convert {\n",
              "      background-color: #3B4455;\n",
              "      fill: #D2E3FC;\n",
              "    }\n",
              "\n",
              "    [theme=dark] .colab-df-convert:hover {\n",
              "      background-color: #434B5C;\n",
              "      box-shadow: 0px 1px 3px 1px rgba(0, 0, 0, 0.15);\n",
              "      filter: drop-shadow(0px 1px 2px rgba(0, 0, 0, 0.3));\n",
              "      fill: #FFFFFF;\n",
              "    }\n",
              "  </style>\n",
              "\n",
              "      <script>\n",
              "        const buttonEl =\n",
              "          document.querySelector('#df-452fec85-9f32-49a5-8fd9-3f515fdf1e5b button.colab-df-convert');\n",
              "        buttonEl.style.display =\n",
              "          google.colab.kernel.accessAllowed ? 'block' : 'none';\n",
              "\n",
              "        async function convertToInteractive(key) {\n",
              "          const element = document.querySelector('#df-452fec85-9f32-49a5-8fd9-3f515fdf1e5b');\n",
              "          const dataTable =\n",
              "            await google.colab.kernel.invokeFunction('convertToInteractive',\n",
              "                                                     [key], {});\n",
              "          if (!dataTable) return;\n",
              "\n",
              "          const docLinkHtml = 'Like what you see? Visit the ' +\n",
              "            '<a target=\"_blank\" href=https://colab.research.google.com/notebooks/data_table.ipynb>data table notebook</a>'\n",
              "            + ' to learn more about interactive tables.';\n",
              "          element.innerHTML = '';\n",
              "          dataTable['output_type'] = 'display_data';\n",
              "          await google.colab.output.renderOutput(dataTable, element);\n",
              "          const docLink = document.createElement('div');\n",
              "          docLink.innerHTML = docLinkHtml;\n",
              "          element.appendChild(docLink);\n",
              "        }\n",
              "      </script>\n",
              "    </div>\n",
              "  </div>\n",
              "  "
            ]
          },
          "metadata": {},
          "execution_count": 3
        }
      ]
    },
    {
      "cell_type": "code",
      "source": [
        "# Os dados são balanceados\n",
        "df.sentiment.value_counts()"
      ],
      "metadata": {
        "colab": {
          "base_uri": "https://localhost:8080/"
        },
        "id": "t7eaJDU1mUR7",
        "outputId": "b9dc44ad-288e-43d0-fdd9-26fb1a14887e"
      },
      "execution_count": null,
      "outputs": [
        {
          "output_type": "execute_result",
          "data": {
            "text/plain": [
              "positive    25000\n",
              "negative    25000\n",
              "Name: sentiment, dtype: int64"
            ]
          },
          "metadata": {},
          "execution_count": 4
        }
      ]
    },
    {
      "cell_type": "markdown",
      "source": [
        "## Pré-Processamento"
      ],
      "metadata": {
        "id": "Pl7Nl6no72B8"
      }
    },
    {
      "cell_type": "code",
      "source": [
        "from bs4 import BeautifulSoup\n",
        "import re\n",
        "#Removing the html strips\n",
        "def strip_html(text):\n",
        "    soup = BeautifulSoup(text, \"html.parser\")\n",
        "    return soup.get_text()\n",
        "\n",
        "#Removing the square brackets\n",
        "def remove_between_square_brackets(text):\n",
        "    return re.sub('\\[[^]]*\\]', '', text)\n",
        "\n",
        "# removing special characters\n",
        "def remove_special_characters(text, remove_digits=True):\n",
        "    pattern=r'[^a-zA-z0-9\\s]'\n",
        "    text=re.sub(pattern,'',text)\n",
        "    return text\n",
        "\n",
        "#Removing the noisy text\n",
        "def clean(text):\n",
        "    text = strip_html(text)\n",
        "    text = remove_between_square_brackets(text)\n",
        "    text = remove_special_characters(text)\n",
        "    return text\n",
        "#Apply function on review column\n",
        "df['review'] = df['review'].progress_apply(clean)"
      ],
      "metadata": {
        "colab": {
          "base_uri": "https://localhost:8080/"
        },
        "id": "I-7bog5Q890r",
        "outputId": "7c2e8246-5529-42e8-ea19-2d3d9ac42ba1"
      },
      "execution_count": null,
      "outputs": [
        {
          "output_type": "stream",
          "name": "stderr",
          "text": [
            "100%|██████████| 50000/50000 [00:25<00:00, 1992.82it/s]\n"
          ]
        }
      ]
    },
    {
      "cell_type": "code",
      "source": [
        "df['review']"
      ],
      "metadata": {
        "colab": {
          "base_uri": "https://localhost:8080/"
        },
        "id": "yn3MbXNPAo7D",
        "outputId": "f8f36830-7e31-4d58-fa70-aea239811c79"
      },
      "execution_count": null,
      "outputs": [
        {
          "output_type": "execute_result",
          "data": {
            "text/plain": [
              "0        One of the other reviewers has mentioned that ...\n",
              "1        A wonderful little production The filming tech...\n",
              "2        I thought this was a wonderful way to spend ti...\n",
              "3        Basically theres a family where a little boy J...\n",
              "4        Petter Matteis Love in the Time of Money is a ...\n",
              "                               ...                        \n",
              "49995    I thought this movie did a down right good job...\n",
              "49996    Bad plot bad dialogue bad acting idiotic direc...\n",
              "49997    I am a Catholic taught in parochial elementary...\n",
              "49998    Im going to have to disagree with the previous...\n",
              "49999    No one expects the Star Trek movies to be high...\n",
              "Name: review, Length: 50000, dtype: object"
            ]
          },
          "metadata": {},
          "execution_count": 6
        }
      ]
    },
    {
      "cell_type": "code",
      "source": [
        "# Removing stopwords\n",
        "def remove_stopwords(text):\n",
        "    tokens = word_tokenize(text)\n",
        "    tokens = [token for token in tokens if token not in stopwords]    \n",
        "    return ' '.join(tokens)\n",
        "\n",
        "df['review'] = df['review'].progress_apply(remove_stopwords)"
      ],
      "metadata": {
        "colab": {
          "base_uri": "https://localhost:8080/"
        },
        "id": "24J-Lcz_Ay9j",
        "outputId": "73837477-07bb-4217-9c04-bdba73d3a2fe"
      },
      "execution_count": null,
      "outputs": [
        {
          "output_type": "stream",
          "name": "stderr",
          "text": [
            "100%|██████████| 50000/50000 [00:46<00:00, 1073.08it/s]\n"
          ]
        }
      ]
    },
    {
      "cell_type": "code",
      "source": [
        "# lower casing\n",
        "df['review'] = df['review'].progress_apply(lambda text: text.lower())"
      ],
      "metadata": {
        "id": "JAq6SUhJCRlu",
        "colab": {
          "base_uri": "https://localhost:8080/"
        },
        "outputId": "82a560ee-2d0f-44be-8bb6-abaccc288bf8"
      },
      "execution_count": null,
      "outputs": [
        {
          "output_type": "stream",
          "name": "stderr",
          "text": [
            "100%|██████████| 50000/50000 [00:00<00:00, 239390.80it/s]\n"
          ]
        }
      ]
    },
    {
      "cell_type": "code",
      "source": [
        "df['review']"
      ],
      "metadata": {
        "colab": {
          "base_uri": "https://localhost:8080/"
        },
        "id": "9fYIHwc-CECl",
        "outputId": "84f2c088-cdac-49f3-e9c5-bf4db0bda316"
      },
      "execution_count": null,
      "outputs": [
        {
          "output_type": "execute_result",
          "data": {
            "text/plain": [
              "0        one reviewers mentioned watching 1 oz episode ...\n",
              "1        a wonderful little production the filming tech...\n",
              "2        i thought wonderful way spend time hot summer ...\n",
              "3        basically theres family little boy jake thinks...\n",
              "4        petter matteis love time money visually stunni...\n",
              "                               ...                        \n",
              "49995    i thought movie right good job it wasnt creati...\n",
              "49996    bad plot bad dialogue bad acting idiotic direc...\n",
              "49997    i catholic taught parochial elementary schools...\n",
              "49998    im going disagree previous comment side maltin...\n",
              "49999    no one expects star trek movies high art fans ...\n",
              "Name: review, Length: 50000, dtype: object"
            ]
          },
          "metadata": {},
          "execution_count": 9
        }
      ]
    },
    {
      "cell_type": "markdown",
      "source": [
        "### Splitando os dados"
      ],
      "metadata": {
        "id": "rYX_kPgTCpvS"
      }
    },
    {
      "cell_type": "code",
      "source": [
        "X_train, X_test, y_train, y_test = train_test_split(\n",
        "    df['review'], df['sentiment'], test_size=0.3, random_state=42\n",
        ")"
      ],
      "metadata": {
        "id": "5-NjQwm7Cd0f"
      },
      "execution_count": null,
      "outputs": []
    },
    {
      "cell_type": "markdown",
      "source": [
        "## Matriz: document x term"
      ],
      "metadata": {
        "id": "_zt-1nnhF5LI"
      }
    },
    {
      "cell_type": "markdown",
      "source": [
        "### Bag of Words"
      ],
      "metadata": {
        "id": "1uZxeWeMF-Eg"
      }
    },
    {
      "cell_type": "code",
      "source": [
        "from sklearn.feature_extraction.text import CountVectorizer\n",
        "\n",
        "min_df = 100      # nro minimo de 'document frequency' de um token\n",
        "\n",
        "max_df = 1.0      # nro máximo de 'document frequency' de um token \n",
        "                  #(1.0 incluirá até mesmo tokens com 100% de 'document frequency')\n",
        "\n",
        "ngram_range = (1,1)\n",
        "lowercase = True\n",
        "tokenizer = word_tokenize\n",
        "max_features = None\n",
        "\n",
        "vsm_bow = CountVectorizer(\n",
        "    min_df=min_df, max_df=max_df, ngram_range=ngram_range, lowercase=lowercase,\n",
        "    tokenizer=tokenizer, max_features=max_features \n",
        ")\n",
        "X_train_bow = vsm_bow.fit_transform(X_train)\n",
        "X_test_bow = vsm_bow.transform(X_test)"
      ],
      "metadata": {
        "id": "QZjKgXpQCz5j"
      },
      "execution_count": null,
      "outputs": []
    },
    {
      "cell_type": "markdown",
      "source": [
        "Função para comparar a similaridade entre dois vetores."
      ],
      "metadata": {
        "id": "Ms_Pwvrnq8KL"
      }
    },
    {
      "cell_type": "code",
      "source": [
        "from sklearn.metrics.pairwise import cosine_similarity\n",
        "from sklearn.metrics.pairwise import euclidean_distances\n",
        "\n",
        "def get_n_most_similar_idxs(\n",
        "    idx, coocurrence_matrix, n, distance_metric\n",
        "):\n",
        "    doc_vec = coocurrence_matrix.getrow(idx)\n",
        "    similarity = distance_metric(coocurrence_matrix, doc_vec).flatten()\n",
        "    sign = 1 if distance_metric == euclidean_distances else -1\n",
        "    return np.argsort(sign * similarity)[:n]"
      ],
      "metadata": {
        "id": "lBA1Q998P6o4"
      },
      "execution_count": null,
      "outputs": []
    },
    {
      "cell_type": "markdown",
      "source": [
        "#### Similaridade documentos"
      ],
      "metadata": {
        "id": "7t7iPgBRq7p7"
      }
    },
    {
      "cell_type": "code",
      "source": [
        "def get_n_most_similar_docs(\n",
        "    doc_idx, doc_term_matrix, full_doc_term_matrix, vsm, \n",
        "    n, distance_metric, max_words_per_doc=15\n",
        "):\n",
        "    idxs = get_n_most_similar_idxs(\n",
        "        doc_idx, doc_term_matrix, n, distance_metric\n",
        "    )\n",
        "    return [\n",
        "        ' '.join(doc[:max_words_per_doc]) \n",
        "        for doc in vsm.inverse_transform(full_doc_term_matrix[idxs])\n",
        "    ]"
      ],
      "metadata": {
        "id": "_2-S3gHrTnHJ"
      },
      "execution_count": null,
      "outputs": []
    },
    {
      "cell_type": "code",
      "source": [
        "import random\n",
        "\n",
        "def print_n_most_similar_docs(\n",
        "    doc_term_matrix, full_doc_term_matrix, vsm, n, n_examples   \n",
        "):\n",
        "    n_documents = doc_term_matrix.shape[0]\n",
        "\n",
        "    for i in range(n_examples):\n",
        "        print(f'Example {i+1}')\n",
        "        document_idx = random.randint(0, n_documents)\n",
        "        doc = ' '.join(vsm.inverse_transform(full_doc_term_matrix[document_idx])[0])\n",
        "        print(f'Doc:{doc}\\n')\n",
        "        print(f'Using Euclidean distance:', end='\\n')\n",
        "        print('\\n'.join(get_n_most_similar_docs(\n",
        "            document_idx, doc_term_matrix, full_doc_term_matrix, \n",
        "            vsm, n, euclidean_distances)\n",
        "        ))\n",
        "        print(f'\\nUsing Cosine similarity:')\n",
        "        print('\\n'.join(get_n_most_similar_docs(\n",
        "            document_idx, doc_term_matrix, full_doc_term_matrix,\n",
        "            vsm, n, cosine_similarity))\n",
        "        )\n",
        "        print('------'*5)\n"
      ],
      "metadata": {
        "id": "IJcP03rXho63"
      },
      "execution_count": null,
      "outputs": []
    },
    {
      "cell_type": "code",
      "source": [
        "n = 5\n",
        "n_examples = 5\n",
        "print_n_most_similar_docs(X_train_bow, X_train_bow, vsm_bow, n, n_examples)"
      ],
      "metadata": {
        "colab": {
          "base_uri": "https://localhost:8080/"
        },
        "id": "-W5HGS5xiVdY",
        "outputId": "c5dde178-71e9-410e-fb8b-47fa4f63dfc0"
      },
      "execution_count": null,
      "outputs": [
        {
          "output_type": "stream",
          "name": "stdout",
          "text": [
            "Example 1\n",
            "Doc:i one another new get good like time long big characters its someone setting enjoy well enough jokes lets place live see mile happy weak there looking please instead kids says gags opening virtually different probably entirely seemed children joke put avoid series coming definitely worked em classic amounts footage else unlike road cat example mostly basically involving builds tired returns cartoon boat fails generic chuck introduce endings routine glasses\n",
            "\n",
            "Using Euclidean distance:\n",
            "amounts another avoid basically big boat builds cartoon cat characters children chuck classic coming definitely\n",
            "dont get i know like movie never tired watching well\n",
            "ago also another best exciting genre i it one opportunity saw see series since starring\n",
            "boring credits ending glad i long never roll see\n",
            "filmmakers group hope i never\n",
            "\n",
            "Using Cosine similarity:\n",
            "amounts another avoid basically big boat builds cartoon cat characters children chuck classic coming definitely\n",
            "910 acceptable acting action actually admit adventure almost also although amounts amusing anime appears appreciated\n",
            "10 12 1930s 8 a actually animated anyone away besides bit but cant cartoon cartoons\n",
            "actors also american arrive beautiful best chest continue countries dont effects episodes europe even example\n",
            "17 2004 3 8 america bad best big book books caught chance childhood coming disappointment\n",
            "------------------------------\n",
            "Example 2\n",
            "Doc:and animal animals arent audiences away bad believe best better boring but cant cat character coming corny cute de definitely dialogue director dog done entertainment fan felt films fooled forgive found generally get good green gruesome hall he honesty horrendous how i if in interpretation job keep kill kind let like long made movie much namely never opened opposite package performance peter play please plot plots predictable rather reaches real rush saw seeing silly some someones somewhat storyline subjected surely take tells that this tired trite us viewer way work writers\n",
            "\n",
            "Using Euclidean distance:\n",
            "and animal animals arent audiences away bad believe best better boring but cant cat character\n",
            "dont get i know like movie never tired watching well\n",
            "70 age average bad believe cant fairly group i it like movie new rating saw\n",
            "end enjoyed friend good guessing i job like movie mystery one really saw sean tv\n",
            "act actor annoying billy but else even everything fan good i least love loved made\n",
            "\n",
            "Using Cosine similarity:\n",
            "and animal animals arent audiences away bad believe best better boring but cant cat character\n",
            "became best but chance couple definitely dress eddie entire ever every fan feel get go\n",
            "1 2 3 3000 4 8 adult after alive all also ashamed at avoid ball\n",
            "20 best but cried else everything far first free get guide held i if independent\n",
            "always and anything appreciate better big came couldnt didnt done dont ended enjoyed enjoyment even\n",
            "------------------------------\n",
            "Example 3\n",
            "Doc:anything appeal by case character double end even everyone get going guessing i itthe jail keeps make many means mess movie plot quite really sense shot sometimes standard the there this thrown waiting wanted wasnt with worth\n",
            "\n",
            "Using Euclidean distance:\n",
            "anything appeal by case character double end even everyone get going guessing i itthe jail\n",
            "little movie the\n",
            "effects good movie terrible this\n",
            "book forget movie read\n",
            "interpretation primary\n",
            "\n",
            "Using Cosine similarity:\n",
            "anything appeal by case character double end even everyone get going guessing i itthe jail\n",
            "anything budget cant definitely end entire even ever find going gon hey hoping i im\n",
            "12 actually anything bad became bite bored boy clue could dont entertained even ever expecting\n",
            "a actress actually added all also and annoying anything appeared away bit black blank blue\n",
            "a actually after alone angry anything bad better bring continuity cool could couldnt couple disgusting\n",
            "------------------------------\n",
            "Example 4\n",
            "Doc:addition also answer beautiful casting cinematographer clear close comes complex dead deal death differences director directors dont film first following happens his history i last listen lost loud love loved major many message missed mistakes movie never night one ones parent people pleasure portrayal question record relationship relationships six someone spoke stories suspect talk tell the themes two understood viewing wonderful\n",
            "\n",
            "Using Euclidean distance:\n",
            "addition also answer beautiful casting cinematographer clear close comes complex dead deal death differences director\n",
            "awesome concept could great guys i it last love loved movie nick plot thought two\n",
            "dont get i know like movie never tired watching well\n",
            "adaptation and best but certainly christopher confess course cult dont film good i liked movie\n",
            "called disney good i it looking loved luck many missed move movie nine no saw\n",
            "\n",
            "Using Cosine similarity:\n",
            "addition also answer beautiful casting cinematographer clear close comes complex dead deal death differences director\n",
            "2004 acting actors alexander alone already also and appreciate arent artists attached awesome back basically\n",
            "as disappointed film first hated hell i liked lot loved mom movie really recommend saw\n",
            "1010 17 8 adorable all also around best cartoon cat cats chance contain cute disney\n",
            "actors after ago already am amazing anderson anybody best blockbuster but camera come commentary content\n",
            "------------------------------\n",
            "Example 5\n",
            "Doc:` and attitudes beautiful better born but cinema clichs climax comes common could dialogue dirty dont down escape ever example exciting explain film french god hair happy here i ill im in knew life like live longer looking los loves lying maybe means mind mirror moment movies much my natural new often or other picture plays please point room say scene see seen sex she shes something soon sucks task tell theres think understand vivid whats willing woman world worst would years young youre\n",
            "\n",
            "Using Euclidean distance:\n",
            "` and attitudes beautiful better born but cinema clichs climax comes common could dialogue dirty\n",
            "energy film i like mind performance see she stands tone watching would\n",
            "alan and character compelling ever film i john made mean one seen sport star this\n",
            "boring dont even film good hoping i idea know liked pointless scenery think very watched\n",
            "ago film i morning remember saw seen several still television terrifying wake years\n",
            "\n",
            "Using Cosine similarity:\n",
            "` and attitudes beautiful better born but cinema clichs climax comes common could dialogue dirty\n",
            "1 actors add all allowing also always ambitious and angel angles anyone anything appeared argue\n",
            "able accepted alive american another anything appreciate art as audience beautiful beautifully beauty became buck\n",
            "acting admit all and answer around arts away belief better beyond bunch but camera cinema\n",
            "1 2 accept actually again also am american americans another apparently around as at bad\n",
            "------------------------------\n"
          ]
        }
      ]
    },
    {
      "cell_type": "code",
      "source": [
        "# import random\n",
        "# n_documents = X_train_bow.shape[0]\n",
        "# n_examples = 5\n",
        "# n = 5\n",
        "\n",
        "# for i in range(n_examples):\n",
        "#     print(f'Example {i+1}')\n",
        "#     document_idx = random.randint(0, n_documents)\n",
        "#     doc = ' '.join(vsm_bow.inverse_transform(X_train_bow[document_idx])[0])\n",
        "#     print(f'Doc:{doc}\\n')\n",
        "#     print(f'Using Euclidean distance:', end='\\n')\n",
        "#     print('\\n'.join(get_n_most_similar_docs(document_idx, X_train_bow, vsm_bow, n, euclidean_distances)))\n",
        "#     print(f'\\nUsing Cosine similarity:')\n",
        "#     print('\\n'.join(get_n_most_similar_docs(document_idx, X_train_bow, vsm_bow, n, cosine_similarity)))\n",
        "#     print('------'*5)"
      ],
      "metadata": {
        "id": "rkWdeuETo66g"
      },
      "execution_count": null,
      "outputs": []
    },
    {
      "cell_type": "markdown",
      "source": [
        "#### Similaridade palavras"
      ],
      "metadata": {
        "id": "sUFeCfF6rIuJ"
      }
    },
    {
      "cell_type": "code",
      "source": [
        "from sklearn.metrics.pairwise import cosine_similarity\n",
        "from sklearn.metrics.pairwise import euclidean_distances\n",
        "\n",
        "def get_n_most_similar_words(\n",
        "    word_idx, term_doc_matrix, vsm, n, distance_metric\n",
        "):\n",
        "    idxs = get_n_most_similar_idxs(\n",
        "        word_idx, term_doc_matrix, n, distance_metric\n",
        "    )\n",
        "\n",
        "    return [\n",
        "        vsm.get_feature_names_out()[idx] for idx in idxs\n",
        "    ]"
      ],
      "metadata": {
        "id": "joRdzIyucysh"
      },
      "execution_count": null,
      "outputs": []
    },
    {
      "cell_type": "code",
      "source": [
        "def print_n_most_similar_words(\n",
        "    term_doc_matrix, vsm, n, n_examples\n",
        "):\n",
        "    n_words = term_doc_matrix.shape[0]\n",
        "    n_examples = 5\n",
        "    n = 5\n",
        "\n",
        "    for i in range(n_examples):\n",
        "        print(f'Example {i+1}')\n",
        "        word_idx = random.randint(0, n_words)\n",
        "        word = vsm.get_feature_names_out()[word_idx]\n",
        "        print(f'Chosen word: {word}')\n",
        "        print(f'Using Euclidean distance:', end='')\n",
        "        print(' '.join(get_n_most_similar_words(word_idx, term_doc_matrix, vsm, n, euclidean_distances)))\n",
        "        print(f'\\nUsing Cosine similarity:', end='')\n",
        "        print(' '.join(get_n_most_similar_words(word_idx, term_doc_matrix, vsm, n, cosine_similarity)))\n",
        "        print('------'*5)\n"
      ],
      "metadata": {
        "id": "G5dA1u1Zio3c"
      },
      "execution_count": null,
      "outputs": []
    },
    {
      "cell_type": "code",
      "source": [
        "n = 5\n",
        "n_examples = 5\n",
        "print_n_most_similar_words(X_train_bow.T, vsm_bow, n, n_examples)"
      ],
      "metadata": {
        "colab": {
          "base_uri": "https://localhost:8080/"
        },
        "id": "5uvJEge4jWjU",
        "outputId": "96d14e55-079f-4eb8-8cbe-5f3818ce25e5"
      },
      "execution_count": null,
      "outputs": [
        {
          "output_type": "stream",
          "name": "stdout",
          "text": [
            "Example 1\n",
            "Chosen word: randomly\n",
            "Using Euclidean distance:randomly appropriately hopelessly ensues occasions\n",
            "\n",
            "Using Cosine similarity:randomly anna random focus supposed\n",
            "------------------------------\n",
            "Example 2\n",
            "Chosen word: thriller\n",
            "Using Euclidean distance:thriller unfold investigating thrillers ensues\n",
            "\n",
            "Using Cosine similarity:thriller thrillers suspense the michael\n",
            "------------------------------\n",
            "Example 3\n",
            "Chosen word: final\n",
            "Using Euclidean distance:final showdown nail destroys inexplicably\n",
            "\n",
            "Using Cosine similarity:final the one film scene\n",
            "------------------------------\n",
            "Example 4\n",
            "Chosen word: interview\n",
            "Using Euclidean distance:interview fascination subpar appropriately unfold\n",
            "\n",
            "Using Cosine similarity:interview interviews documentary fish one\n",
            "------------------------------\n",
            "Example 5\n",
            "Chosen word: vaguely\n",
            "Using Euclidean distance:vaguely ensues appropriately lengthy fascination\n",
            "\n",
            "Using Cosine similarity:vaguely remember dating defined even\n",
            "------------------------------\n"
          ]
        }
      ]
    },
    {
      "cell_type": "code",
      "source": [
        "# import random\n",
        "# n_features = X_train_bow.shape[1]\n",
        "# n_examples = 5\n",
        "# n = 5\n",
        "\n",
        "# for i in range(n_examples):\n",
        "#     print(f'Example {i+1}')\n",
        "#     word_idx = random.randint(0, n_features)\n",
        "#     word = vsm_bow.get_feature_names_out()[word_idx]\n",
        "#     print(f'Chosen word: {word}')\n",
        "#     print(f'Using Euclidean distance:', end='')\n",
        "#     print(' '.join(get_n_most_similar_words(word_idx, X_train_bow.transpose(), vsm_bow, n, euclidean_distances)))\n",
        "#     print(f'\\nUsing Cosine similarity:', end='')\n",
        "#     print(' '.join(get_n_most_similar_words(word_idx, X_train_bow.transpose(), vsm_bow, n, cosine_similarity)))\n",
        "#     print('------'*5)"
      ],
      "metadata": {
        "id": "RE09UUKfnwQ-"
      },
      "execution_count": null,
      "outputs": []
    },
    {
      "cell_type": "markdown",
      "source": [
        "#### LSA"
      ],
      "metadata": {
        "id": "9r0s8ka0Gvyn"
      }
    },
    {
      "cell_type": "markdown",
      "source": [
        "##### Matriz document x term"
      ],
      "metadata": {
        "id": "rhNhGZqI3A-E"
      }
    },
    {
      "cell_type": "code",
      "source": [
        "from sklearn.decomposition import TruncatedSVD\n",
        "n_components = 10\n",
        "\n",
        "svd = TruncatedSVD(n_components=n_components, random_state=42)\n",
        "svd.fit(X_train_bow)"
      ],
      "metadata": {
        "id": "nVuw1r1eG3pt",
        "colab": {
          "base_uri": "https://localhost:8080/"
        },
        "outputId": "ac806555-3720-425d-884d-545233654566"
      },
      "execution_count": null,
      "outputs": [
        {
          "output_type": "execute_result",
          "data": {
            "text/plain": [
              "TruncatedSVD(n_components=10, random_state=42)"
            ]
          },
          "metadata": {},
          "execution_count": 21
        }
      ]
    },
    {
      "cell_type": "code",
      "source": [
        "S = svd.singular_values_\n",
        "sns.barplot(x=list(range(len(S))), y = S)"
      ],
      "metadata": {
        "id": "JleS5heUI40I",
        "colab": {
          "base_uri": "https://localhost:8080/",
          "height": 284
        },
        "outputId": "e153c624-fda4-4d22-a7d8-dfc4a0a1e9c6"
      },
      "execution_count": null,
      "outputs": [
        {
          "output_type": "execute_result",
          "data": {
            "text/plain": [
              "<matplotlib.axes._subplots.AxesSubplot at 0x7fde86842be0>"
            ]
          },
          "metadata": {},
          "execution_count": 22
        },
        {
          "output_type": "display_data",
          "data": {
            "text/plain": [
              "<Figure size 432x288 with 1 Axes>"
            ],
            "image/png": "[encoded data removed]"
          },
          "metadata": {
            "needs_background": "light"
          }
        }
      ]
    },
    {
      "cell_type": "code",
      "source": [
        "def get_most_important_words(terms, components):\n",
        "    topic_terms = {}\n",
        "    for i, comp in enumerate(components):\n",
        "        terms_comp = zip(terms, comp)\n",
        "        sorted_terms = sorted(terms_comp, key=lambda x:x[1], reverse=True)[:7]\n",
        "        topic_terms[i] = sorted_terms\n",
        "    return topic_terms"
      ],
      "metadata": {
        "id": "xbS-2NEXM2hN"
      },
      "execution_count": null,
      "outputs": []
    },
    {
      "cell_type": "code",
      "source": [
        "terms = vsm_bow.get_feature_names_out()\n",
        "topic_terms = get_most_important_words(terms, svd.components_)"
      ],
      "metadata": {
        "id": "smCMNBfRQj3m"
      },
      "execution_count": null,
      "outputs": []
    },
    {
      "cell_type": "code",
      "source": [
        "def plot_term_topic(term_comp, n_components):\n",
        "    fig, axs = plt.subplots(n_components, figsize=(5, n_components*2.05))\n",
        "    fig.subplots_adjust(hspace=0.8)\n",
        "    for topic_idx in range(n_components):\n",
        "        terms = []\n",
        "        comps = []\n",
        "        for term, comp in term_comp[topic_idx]:\n",
        "            terms.append(term)\n",
        "            comps.append(comp)\n",
        "        axs[topic_idx].barh(terms, comps)\n",
        "        axs[topic_idx].set_title(f'Main terms topic {topic_idx+1}')\n",
        "        axs[topic_idx].set_xlabel(f'Component values')\n",
        "        axs[topic_idx].set_ylabel(f'Terms')"
      ],
      "metadata": {
        "id": "lc1gPd0TR5_U"
      },
      "execution_count": null,
      "outputs": []
    },
    {
      "cell_type": "code",
      "source": [
        "plot_term_topic(topic_terms, n_components)"
      ],
      "metadata": {
        "colab": {
          "base_uri": "https://localhost:8080/",
          "height": 1000
        },
        "id": "adHHCvIKSaua",
        "outputId": "14076a2a-a906-4987-e164-e4b1e7c4d93f"
      },
      "execution_count": null,
      "outputs": [
        {
          "output_type": "display_data",
          "data": {
            "text/plain": [
              "<Figure size 360x1476 with 10 Axes>"
            ],
            "image/png": "[encoded data removed]"
          },
          "metadata": {
            "needs_background": "light"
          }
        }
      ]
    },
    {
      "cell_type": "code",
      "source": [
        "from scipy import sparse\n",
        "n = 5\n",
        "n_examples = 5\n",
        "lsa_X_train_bow = svd.transform(X_train_bow)\n",
        "lsa_X_train_bow = sparse.csr_matrix(lsa_X_train_bow)\n",
        "\n",
        "print(lsa_X_train_bow.shape)\n",
        "print_n_most_similar_docs(lsa_X_train_bow, X_train_bow, vsm_bow, n, n_examples)"
      ],
      "metadata": {
        "colab": {
          "base_uri": "https://localhost:8080/"
        },
        "id": "C_L5F6YljqLm",
        "outputId": "b3386da6-93f5-4d9f-b63a-8089c686cb0f"
      },
      "execution_count": null,
      "outputs": [
        {
          "output_type": "stream",
          "name": "stdout",
          "text": [
            "(35000, 10)\n",
            "Example 1\n",
            "Doc:annoying anything away behind better blair breaking camera car cheap coming compare crap crappy crazy crying directions embarrassing entire everything fair find five get getting girls guess hit home i im in lack literally lost make movie much one painful person piece pretty real scary scene screaming see seem shocking shot sorry sound stays stop store suddenly summary the though top trouble try trying useless violence way well witch word\n",
            "\n",
            "Using Euclidean distance:\n",
            "annoying anything away behind better blair breaking camera car cheap coming compare crap crappy crazy\n",
            "10 2nd actors and around back better bunch cant cared cast characters clever comedic contrived\n",
            "acting and beings black clumsy coming count even except expect explain family fully fx ghosts\n",
            "actor adam although and andy any bad big boy by camera case choice college comedies\n",
            "10 12 8 accents actually and bad chinese choice clearly dialog do done ever figure\n",
            "\n",
            "Using Cosine similarity:\n",
            "annoying anything away behind better blair breaking camera car cheap coming compare crap crappy crazy\n",
            "acting and area basically characterization chase clearly cool dialogue didnt differences dumb easy effects either\n",
            "100 2 20 5 90 affair although among and annoying apparently as baby back beer\n",
            "added aired aliens all also alternate at attempting back bag better cable california clips conversation\n",
            "10 2nd actors and around back better bunch cant cared cast characters clever comedic contrived\n",
            "------------------------------\n",
            "Example 2\n",
            "Doc:a afford after agent background british could decided defend disbelief doctor doesnt either embarrassed episode episodes even eyes first four full give hire home hopelessly human i if incompetent investigate law level london mask office officers one police portray portrayal possible producers reason rolling science seen sends sense sick side single special subjects suits technical the totally two unable wear whether wife without wonders working would\n",
            "\n",
            "Using Euclidean distance:\n",
            "a afford after agent background british could decided defend disbelief doctor doesnt either embarrassed episode\n",
            "1990s as back bad built bumbling childish combination coming could details dont drama dvds even\n",
            "allowed back benefit boys calling cant change come credit didnt disappointing dont doubt either from\n",
            "actors adaptation all audience book bringing characters complaint did ending ever everything eyes for forgotten\n",
            "actually alternate but completely complex credits didnt doors etc even ever explained explanation force genre\n",
            "\n",
            "Using Cosine similarity:\n",
            "a afford after agent background british could decided defend disbelief doctor doesnt either embarrassed episode\n",
            "1990s as back bad built bumbling childish combination coming could details dont drama dvds even\n",
            "` accurate amazing anger box cant choose cried day describe description disbelief documentary even ever\n",
            "3 accident after becomes bother boy car catchy come continue could course disappointing enjoyable enjoyed\n",
            "80s ago aired always amount anyone appearances audiences available away back bad bill case clown\n",
            "------------------------------\n",
            "Example 3\n",
            "Doc:acting actually advice anything apparently bad beginning boss brother cant classical clothes compared could dead doesnt dont environment even experience get go goes home horrible house i it lab leaving like look looks make material meant mentioned movies next nothing painful part place scene school scientist shakespeare story technical tell thought top walks watch wear wears white whole wont work working worse worst\n",
            "\n",
            "Using Euclidean distance:\n",
            "acting actually advice anything apparently bad beginning boss brother cant classical clothes compared could dead\n",
            "a acted acting all although aside at baby bad based battle beautiful bed believable blood\n",
            "a absolutely actresses alone and anything apparently area become begins boring breasts chicks country did\n",
            "1 2 8 about aliens amusing and appear attempt awkward background big coherent compared couldnt\n",
            "2006 a accent allow appeared as asian become big boy brief but canada cartoons characters\n",
            "\n",
            "Using Cosine similarity:\n",
            "acting actually advice anything apparently bad beginning boss brother cant classical clothes compared could dead\n",
            "1 2 90 acting agree although always amazing anything artists bad bought certainly collection covers\n",
            "10 acting and but call chair clichs closest coming crying didnt effects even fails flow\n",
            "anyone assume bad big boy brown cast casting combination considered consistently costume course directors dont\n",
            "a acted acting all although aside at baby bad based battle beautiful bed believable blood\n",
            "------------------------------\n",
            "Example 4\n",
            "Doc:a action advantage also although appealing appropriately attractive beauty becomes belongs brought build burns captain concerned crew deal dialogue dorothy either end ensues evil falls father film great grown he his however in inevitable intentions interesting lovers man member members mind one partly passes plot points process quite really role romantic sexy ship shown some story the this time title united wealthy well what when woman young\n",
            "\n",
            "Using Euclidean distance:\n",
            "a action advantage also although appealing appropriately attractive beauty becomes belongs brought build burns captain\n",
            "ages alex also as attractive bonus brilliant brings built bumbling business captures cast charming come\n",
            "10 acting actors actresses almost already artists becomes best body character credits dead death directed\n",
            "acting actor adds adult already although amazing author ball based bond boys certainly compelling couple\n",
            "50 across ago air alone also amongst avoid back background beliefs best billy certainly charles\n",
            "\n",
            "Using Cosine similarity:\n",
            "a action advantage also although appealing appropriately attractive beauty becomes belongs brought build burns captain\n",
            "10 acting actors actresses almost already artists becomes best body character credits dead death directed\n",
            "ages alex also as attractive bonus brilliant brings built bumbling business captures cast charming come\n",
            "a able accident accidentally actor adapted add adds affair agent also always among and anne\n",
            "50 across ago air alone also amongst avoid back background beliefs best billy certainly charles\n",
            "------------------------------\n",
            "Example 5\n",
            "Doc:a acting adventures along bill billy bob children city even existed extra fun good keeps know lost lot movie plot shows talent the trailers turns twists watching wondering worth\n",
            "\n",
            "Using Euclidean distance:\n",
            "a acting adventures along bill billy bob children city even existed extra fun good keeps\n",
            "action actors another awful beginning beyond blood cant classic clever come deserves dialogs end escape\n",
            "acting action anybody bad cinematography cut didnt don done ever fan im ive johnson king\n",
            "although bad basically billy bit comedy danny de didnt entire events fast fit forward fun\n",
            "bad character charles chemistry dogs even fabulous half if isnt love man may movie nick\n",
            "\n",
            "Using Cosine similarity:\n",
            "a acting adventures along bill billy bob children city even existed extra fun good keeps\n",
            "action actors another awful beginning beyond blood cant classic clever come deserves dialogs end escape\n",
            "abc acting actors already also among amount attempt bad better blockbuster characters cheesy clichd comes\n",
            "accent action actors attempt background bad becomes beings besides boredom but condition creates da days\n",
            "8 acting anyone bad better forget jokes laugh likes movie much r seen sensitive series\n",
            "------------------------------\n"
          ]
        }
      ]
    },
    {
      "cell_type": "markdown",
      "source": [
        "##### Matriz term x document"
      ],
      "metadata": {
        "id": "oE_19rP929a8"
      }
    },
    {
      "cell_type": "code",
      "source": [
        "from sklearn.decomposition import TruncatedSVD\n",
        "n_components = 10\n",
        "\n",
        "svd = TruncatedSVD(n_components=n_components, random_state=42)\n",
        "svd.fit(X_train_bow.transpose())"
      ],
      "metadata": {
        "colab": {
          "base_uri": "https://localhost:8080/"
        },
        "id": "xjbCypff3MFg",
        "outputId": "cfcacbec-b232-4c01-99c0-969b800a09fb"
      },
      "execution_count": null,
      "outputs": [
        {
          "output_type": "execute_result",
          "data": {
            "text/plain": [
              "TruncatedSVD(n_components=10, random_state=42)"
            ]
          },
          "metadata": {},
          "execution_count": 28
        }
      ]
    },
    {
      "cell_type": "code",
      "source": [
        "from scipy import sparse\n",
        "lsa_terms = svd.transform(X_train_bow.transpose())\n",
        "lsa_terms = sparse.csr_matrix(lsa_terms)"
      ],
      "metadata": {
        "id": "aAlhtluX3O8m"
      },
      "execution_count": null,
      "outputs": []
    },
    {
      "cell_type": "code",
      "source": [
        "n = 5\n",
        "n_examples = 5\n",
        "print_n_most_similar_words(lsa_terms, vsm_bow, n, n_examples)"
      ],
      "metadata": {
        "colab": {
          "base_uri": "https://localhost:8080/"
        },
        "id": "SMOrNkTOn2NL",
        "outputId": "b74913a0-d0f3-4487-cb53-95c4479d31cb"
      },
      "execution_count": null,
      "outputs": [
        {
          "output_type": "stream",
          "name": "stdout",
          "text": [
            "Example 1\n",
            "Chosen word: finished\n",
            "Using Euclidean distance:finished grade reviewers hopes months\n",
            "\n",
            "Using Cosine similarity:finished negative positive seeing went\n",
            "------------------------------\n",
            "Example 2\n",
            "Chosen word: mentioning\n",
            "Using Euclidean distance:mentioning disjointed chased staring coherent\n",
            "\n",
            "Using Cosine similarity:mentioning unnecessary cliche make insane\n",
            "------------------------------\n",
            "Example 3\n",
            "Chosen word: wasted\n",
            "Using Euclidean distance:wasted honestly pathetic 20 werent\n",
            "\n",
            "Using Cosine similarity:wasted minutes halfway paid 90\n",
            "------------------------------\n",
            "Example 4\n",
            "Chosen word: choose\n",
            "Using Euclidean distance:choose promise heaven correct angel\n",
            "\n",
            "Using Cosine similarity:choose ready day took reaction\n",
            "------------------------------\n",
            "Example 5\n",
            "Chosen word: relation\n",
            "Using Euclidean distance:relation grasp disturbed valuable affect\n",
            "\n",
            "Using Cosine similarity:relation sexuality sin grasp disturbed\n",
            "------------------------------\n"
          ]
        }
      ]
    },
    {
      "cell_type": "markdown",
      "source": [
        "#### Classificação"
      ],
      "metadata": {
        "id": "aCVumNFmrasE"
      }
    },
    {
      "cell_type": "markdown",
      "source": [
        "##### BoW"
      ],
      "metadata": {
        "id": "JlzJ0_2p2E9x"
      }
    },
    {
      "cell_type": "code",
      "source": [
        "from sklearn.linear_model import LogisticRegression\n",
        "\n",
        "clf = LogisticRegression()\n",
        "clf.fit(X_train_bow, y_train)\n",
        "clf.score(X_test_bow, y_test)"
      ],
      "metadata": {
        "colab": {
          "base_uri": "https://localhost:8080/"
        },
        "id": "LjqzsBrMz1wy",
        "outputId": "6a671e62-f0be-48a8-d6cd-73c6aa7900c2"
      },
      "execution_count": null,
      "outputs": [
        {
          "output_type": "stream",
          "name": "stderr",
          "text": [
            "/usr/local/lib/python3.8/dist-packages/sklearn/linear_model/_logistic.py:814: ConvergenceWarning: lbfgs failed to converge (status=1):\n",
            "STOP: TOTAL NO. of ITERATIONS REACHED LIMIT.\n",
            "\n",
            "Increase the number of iterations (max_iter) or scale the data as shown in:\n",
            "    https://scikit-learn.org/stable/modules/preprocessing.html\n",
            "Please also refer to the documentation for alternative solver options:\n",
            "    https://scikit-learn.org/stable/modules/linear_model.html#logistic-regression\n",
            "  n_iter_i = _check_optimize_result(\n"
          ]
        },
        {
          "output_type": "execute_result",
          "data": {
            "text/plain": [
              "0.8754666666666666"
            ]
          },
          "metadata": {},
          "execution_count": 31
        }
      ]
    },
    {
      "cell_type": "markdown",
      "source": [
        "##### BoW + LSA"
      ],
      "metadata": {
        "id": "8W3tgTLJz_n9"
      }
    },
    {
      "cell_type": "code",
      "source": [
        "n_components = 200\n",
        "\n",
        "svd = TruncatedSVD(n_components=n_components, random_state=42)\n",
        "svd.fit(X_train_bow)\n",
        "\n",
        "lsa_X_train_bow = svd.transform(X_train_bow)\n",
        "lsa_X_test_bow = svd.transform(X_test_bow)\n",
        "\n",
        "clf = LogisticRegression()\n",
        "clf.fit(lsa_X_train_bow, y_train)\n",
        "clf.score(lsa_X_test_bow, y_test)"
      ],
      "metadata": {
        "colab": {
          "base_uri": "https://localhost:8080/"
        },
        "id": "8a5Cnnm72KJV",
        "outputId": "c06dc48f-1a9b-4186-b143-a3750800d88e"
      },
      "execution_count": null,
      "outputs": [
        {
          "output_type": "execute_result",
          "data": {
            "text/plain": [
              "0.8522"
            ]
          },
          "metadata": {},
          "execution_count": 32
        }
      ]
    },
    {
      "cell_type": "markdown",
      "source": [
        "### TF-IDF reweighting"
      ],
      "metadata": {
        "id": "N1uQqZZKUdmL"
      }
    },
    {
      "cell_type": "code",
      "source": [
        "from sklearn.feature_extraction.text import TfidfVectorizer\n",
        "\n",
        "min_df = 100      # nro minimo de 'document frequency' de um token\n",
        "\n",
        "max_df = 1.0      # nro máximo de 'document frequency' de um token \n",
        "                  #(1.0 incluirá até mesmo tokens com 100% de 'document frequency')\n",
        "\n",
        "ngram_range = (1,1)\n",
        "lowercase = True\n",
        "tokenizer = word_tokenize\n",
        "max_features = None\n",
        "\n",
        "vsm_tfidf = TfidfVectorizer(\n",
        "    min_df=min_df, max_df=max_df, ngram_range=ngram_range, lowercase=lowercase,\n",
        "    tokenizer=tokenizer, max_features=max_features \n",
        ")\n",
        "\n",
        "X_train_tfidf = vsm_tfidf.fit_transform(X_train)\n",
        "X_test_tfidf = vsm_tfidf.transform(X_test)"
      ],
      "metadata": {
        "id": "gS_8RrJiaCfu"
      },
      "execution_count": null,
      "outputs": []
    },
    {
      "cell_type": "code",
      "source": [
        "X_train_tfidf.shape"
      ],
      "metadata": {
        "colab": {
          "base_uri": "https://localhost:8080/"
        },
        "id": "_w6HE1lTcFyz",
        "outputId": "c9a0ba14-c56b-4371-e827-dd52291e3fe5"
      },
      "execution_count": null,
      "outputs": [
        {
          "output_type": "execute_result",
          "data": {
            "text/plain": [
              "(35000, 4754)"
            ]
          },
          "metadata": {},
          "execution_count": 34
        }
      ]
    },
    {
      "cell_type": "markdown",
      "source": [
        "#### Similaridade documentos"
      ],
      "metadata": {
        "id": "gQ2RmT84WPAz"
      }
    },
    {
      "cell_type": "code",
      "source": [
        "n = 5\n",
        "n_examples = 5\n",
        "print_n_most_similar_docs(X_train_tfidf, X_train_tfidf, vsm_tfidf, n, n_examples)"
      ],
      "metadata": {
        "colab": {
          "base_uri": "https://localhost:8080/"
        },
        "id": "UlgCMoblnB0o",
        "outputId": "84b22aee-9e2a-4967-e177-5a9819196857"
      },
      "execution_count": null,
      "outputs": [
        {
          "output_type": "stream",
          "name": "stdout",
          "text": [
            "Example 1\n",
            "Doc:glenn personality heroic hopelessly credible pops countless hilariously sharp likewise waters guide cousin subsequent disbelief chase neck trade mouth naturally sky dreadful charisma wooden sheriff raw outfit motion conclusion teens resort severely previously comparison painfully abysmal staged relief rank baby construction discover vicious wound immediately r overall authentic artist community secondary subplot crashes alltime animation comic displays extended feels falls water quiet criminal cash ruins television laughing eating human concerning exploitation nobody arent creature pictures david theater clueless features antics leads idiotic causing albeit our solid atmosphere scared stupid released mark thrilling richard completely saturday certain particularly eventually local stop young lead bland evening better course lady word horror lake car cut play amateur monster town head scientist a william several full double cable crappy male level thoroughly various and crazy performances especially favorite wonderfully bottom independent acting of pacing screen numerous duo grows presence 80s early 70s throughout international starts sound back country scene comes well still saw makes seem things its yet goofy narrative cast characters roberts ever first huge like takes little bob get two way could one the i much\n",
            "\n",
            "Using Euclidean distance:\n",
            "glenn personality heroic hopelessly credible pops countless hilariously sharp likewise waters guide cousin subsequent disbelief\n",
            "hungry wacky irrelevant traveling heroic odds encourage easier spell pops accomplished adorable embarrassing sharp perspective\n",
            "mst3k nonexistent utter proceeds purely guessed atrocious relief community dialogue comic turning safe garbage else\n",
            "embarrassing bumbling surrounding tree beast bore drunk sky variety sheriff hardy rental sign spent boat\n",
            "idiot hits closeups drags wouldbe amateurish chase sky pie boredom phony eaten bottle hurts fate\n",
            "\n",
            "Using Cosine similarity:\n",
            "glenn personality heroic hopelessly credible pops countless hilariously sharp likewise waters guide cousin subsequent disbelief\n",
            "hungry wacky irrelevant traveling heroic odds encourage easier spell pops accomplished adorable embarrassing sharp perspective\n",
            "mst3k nonexistent utter proceeds purely guessed atrocious relief community dialogue comic turning safe garbage else\n",
            "embarrassing bumbling surrounding tree beast bore drunk sky variety sheriff hardy rental sign spent boat\n",
            "idiot hits closeups drags wouldbe amateurish chase sky pie boredom phony eaten bottle hurts fate\n",
            "------------------------------\n",
            "Example 2\n",
            "Doc:weapon seasons glenn bates ideal again christ unfold harmless occurred interpretation oliver starred kate jobs ian sir arguably teaching placed scares combined quietly explaining struggles parker throwing touches convince answer literature alright ghost skin contemporary uncomfortable be information emotional died stage occasions are guard only faithful michael setup treatment did closely intended acceptable required alan passion mad hell cutting english whos is tragedy respective beginning whereas brothers despite reviews quickly both henry stuck fitting opposite started proper jump works slightly violent shakespeare his classic previous worked suspense rated review richard producers rest used pass create to 4 stand better version put dead shame cut what play nominated piece tone job that slowly dull minute a sets making william performed several master close versions intensity almost prior equally directors different role excellent director and paul work actors mel part called actress however all nothing third jesus dream mother says think films looking recommend cant though times 3 expected stars homage of gives screen act star max or in epic even done hour sitting for see mary finally decide running thats showing scene supposed film aside man youre lot jean pretty well 2 line 5 others 1 it but casting rating didnt timeless also effect great she really final actual cast not big short time ever first huge take would im many later years this little good best said get two lines one the movie i much\n",
            "\n",
            "Using Euclidean distance:\n",
            "weapon seasons glenn bates ideal again christ unfold harmless occurred interpretation oliver starred kate jobs\n",
            "importance historically blues elizabeth officers wore correct sir unconvincing navy field manipulative sharp dangerous includes\n",
            "timing drags overlong shirt kim tune parent superior past total ripped faithful writer properly began\n",
            "nine understandable opposed meaning middle liked basically brought quite due excitement better version course kept\n",
            "shake personality link beaten critical network speech proved explaining include fell roll mentioning performing hold\n",
            "\n",
            "Using Cosine similarity:\n",
            "weapon seasons glenn bates ideal again christ unfold harmless occurred interpretation oliver starred kate jobs\n",
            "importance historically blues elizabeth officers wore correct sir unconvincing navy field manipulative sharp dangerous includes\n",
            "timing drags overlong shirt kim tune parent superior past total ripped faithful writer properly began\n",
            "nine understandable opposed meaning middle liked basically brought quite due excitement better version course kept\n",
            "shake personality link beaten critical network speech proved explaining include fell roll mentioning performing hold\n",
            "------------------------------\n",
            "Example 3\n",
            "Doc:scenery neighbor spell carl committed decision learns humorous advice luke puts beat fresh adequate nyc texas wilson button gorgeous marriage decides attraction soon tracks note needs photographer journey category order husband clues quite downright girlfriend space script rest comedies imaginative costumes hard when name west sexy fun wonderful may letting different days and ending night attractive however near favorite mean films anything walks cant somewhere made independent leave after if hoping woman happy lovely style quirky finally club find home comes look delivers give it still its meets great she romantic lives cast time ultimate first go like this performance best nice york new one the\n",
            "\n",
            "Using Euclidean distance:\n",
            "scenery neighbor spell carl committed decision learns humorous advice luke puts beat fresh adequate nyc\n",
            "encounters classical discovers carl warm committed humorous disappeared luke 910 wilson marriage smile note pace\n",
            "straightforward discovery distance lisa unfold psychiatrist senses personality encounters writerdirector spiritual presents chooses draw editor\n",
            "butt sunday hat triumph pushed fault navy motivation through carl event within proud honor washington\n",
            "e africa mentions prisoner context prison carl neck europe drunk woods joy rough grew raped\n",
            "\n",
            "Using Cosine similarity:\n",
            "scenery neighbor spell carl committed decision learns humorous advice luke puts beat fresh adequate nyc\n",
            "encounters classical discovers carl warm committed humorous disappeared luke 910 wilson marriage smile note pace\n",
            "straightforward discovery distance lisa unfold psychiatrist senses personality encounters writerdirector spiritual presents chooses draw editor\n",
            "butt sunday hat triumph pushed fault navy motivation through carl event within proud honor washington\n",
            "e africa mentions prisoner context prison carl neck europe drunk woods joy rough grew raped\n",
            "------------------------------\n",
            "Example 4\n",
            "Doc:continue expressions filming is support beginning uses career local basic different director actors need hilarious important think films something industry show shows world kind face thats country film except others great really big first this good movie i much\n",
            "\n",
            "Using Euclidean distance:\n",
            "continue expressions filming is support beginning uses career local basic different director actors need hilarious\n",
            "learns jerk mouth shirt fell settle grew dropped realizes gorgeous mad admit water beginning definitely\n",
            "intrigued relate watches wide description mainstream hope figure beginning ok looked realized picked at strange\n",
            "adults proved notch top academy angles flow uses filmed quite violence unique young when disney\n",
            "challenging cried emotional appreciated 20 showed heart suggest portrayed broke scary loved went storyline definitely\n",
            "\n",
            "Using Cosine similarity:\n",
            "continue expressions filming is support beginning uses career local basic different director actors need hilarious\n",
            "learns jerk mouth shirt fell settle grew dropped realizes gorgeous mad admit water beginning definitely\n",
            "intrigued relate watches wide description mainstream hope figure beginning ok looked realized picked at strange\n",
            "adults proved notch top academy angles flow uses filmed quite violence unique young when disney\n",
            "challenging cried emotional appreciated 20 showed heart suggest portrayed broke scary loved went storyline definitely\n",
            "------------------------------\n",
            "Example 5\n",
            "Doc:challenging motivation repeat bar here womans emotional seeks treatment sports sexual de soon hand dies allowed runs dealing extreme leads husband violent teenage eyes impressive young la bland since sexy fabulous a wonder beautifully given spoiled several isnt effects fine girls never son reading films anything made hes scenes show shows her woman in usually away tv situations got scene look plays family give casting charm body great people rather take would many little guy performance could movie i\n",
            "\n",
            "Using Euclidean distance:\n",
            "challenging motivation repeat bar here womans emotional seeks treatment sports sexual de soon hand dies\n",
            "discovers wood st domestic captures pool pure teens lively joy forest 100 mrs win pieces\n",
            "catching buff asleep fell touching bizarre teens continue previously report shorts bed thinks catches wait\n",
            "gentle outcome shape mouth eric enters patrick tense womans stage arrived drunken arrives soon mess\n",
            "passes blade again primary caine tie outrageous affection relatives mirror spy floor medium shell revealed\n",
            "\n",
            "Using Cosine similarity:\n",
            "challenging motivation repeat bar here womans emotional seeks treatment sports sexual de soon hand dies\n",
            "discovers wood st domestic captures pool pure teens lively joy forest 100 mrs win pieces\n",
            "catching buff asleep fell touching bizarre teens continue previously report shorts bed thinks catches wait\n",
            "gentle outcome shape mouth eric enters patrick tense womans stage arrived drunken arrives soon mess\n",
            "passes blade again primary caine tie outrageous affection relatives mirror spy floor medium shell revealed\n",
            "------------------------------\n"
          ]
        }
      ]
    },
    {
      "cell_type": "markdown",
      "source": [
        "#### Similaridade palavras"
      ],
      "metadata": {
        "id": "Jm1lfFt_Wx_-"
      }
    },
    {
      "cell_type": "code",
      "source": [
        "n = 5\n",
        "n_examples = 5\n",
        "print_n_most_similar_words(X_train_tfidf.T, vsm_tfidf, n, n_examples)"
      ],
      "metadata": {
        "colab": {
          "base_uri": "https://localhost:8080/"
        },
        "id": "6cDe1w0JnPev",
        "outputId": "1de66854-c2da-4edb-e1c7-b987598b6a0b"
      },
      "execution_count": null,
      "outputs": [
        {
          "output_type": "stream",
          "name": "stdout",
          "text": [
            "Example 1\n",
            "Chosen word: flair\n",
            "Using Euclidean distance:flair likewise appropriately inexplicably significance\n",
            "\n",
            "Using Cosine similarity:flair appropriately talented effectively visiting\n",
            "------------------------------\n",
            "Example 2\n",
            "Chosen word: kick\n",
            "Using Euclidean distance:kick likewise inexplicably quietly arrival\n",
            "\n",
            "Using Cosine similarity:kick ass butt get i\n",
            "------------------------------\n",
            "Example 3\n",
            "Chosen word: those\n",
            "Using Euclidean distance:those likewise significance quietly inexplicably\n",
            "\n",
            "Using Cosine similarity:those i the time one\n",
            "------------------------------\n",
            "Example 4\n",
            "Chosen word: fu\n",
            "Using Euclidean distance:fu kung likewise inexplicably shares\n",
            "\n",
            "Using Cosine similarity:fu kung martial arts fight\n",
            "------------------------------\n",
            "Example 5\n",
            "Chosen word: be\n",
            "Using Euclidean distance:be likewise inexplicably significance quietly\n",
            "\n",
            "Using Cosine similarity:be warned to careful should\n",
            "------------------------------\n"
          ]
        }
      ]
    },
    {
      "cell_type": "markdown",
      "source": [
        "#### LSA"
      ],
      "metadata": {
        "id": "e69JQRoBYDrW"
      }
    },
    {
      "cell_type": "markdown",
      "source": [
        "##### Matriz document x term"
      ],
      "metadata": {
        "id": "FApLUqT4YXKB"
      }
    },
    {
      "cell_type": "code",
      "source": [
        "from sklearn.decomposition import TruncatedSVD\n",
        "n_components = 20\n",
        "\n",
        "svd = TruncatedSVD(n_components=n_components, random_state=42)\n",
        "svd.fit(X_train_tfidf)"
      ],
      "metadata": {
        "colab": {
          "base_uri": "https://localhost:8080/"
        },
        "id": "E92K28mWYn7k",
        "outputId": "1fd1ca79-4db8-47b7-e7f6-1792a0aeac64"
      },
      "execution_count": null,
      "outputs": [
        {
          "output_type": "execute_result",
          "data": {
            "text/plain": [
              "TruncatedSVD(n_components=20, random_state=42)"
            ]
          },
          "metadata": {},
          "execution_count": 37
        }
      ]
    },
    {
      "cell_type": "code",
      "source": [
        "S = svd.singular_values_\n",
        "sns.barplot(x=list(range(len(S))), y = S)"
      ],
      "metadata": {
        "colab": {
          "base_uri": "https://localhost:8080/",
          "height": 283
        },
        "id": "YRS4vQSZYp3L",
        "outputId": "961a26b0-a7f8-4864-deaf-f301ed1120cb"
      },
      "execution_count": null,
      "outputs": [
        {
          "output_type": "execute_result",
          "data": {
            "text/plain": [
              "<matplotlib.axes._subplots.AxesSubplot at 0x7fde85d385b0>"
            ]
          },
          "metadata": {},
          "execution_count": 38
        },
        {
          "output_type": "display_data",
          "data": {
            "text/plain": [
              "<Figure size 432x288 with 1 Axes>"
            ],
            "image/png": "[encoded data removed]"
          },
          "metadata": {
            "needs_background": "light"
          }
        }
      ]
    },
    {
      "cell_type": "code",
      "source": [
        "terms = vsm_tfidf.get_feature_names_out()\n",
        "topic_terms = get_most_important_words(terms, svd.components_)\n",
        "plot_term_topic(topic_terms, n_components)"
      ],
      "metadata": {
        "colab": {
          "base_uri": "https://localhost:8080/",
          "height": 1000
        },
        "id": "9ShHgP3CZN7c",
        "outputId": "3ac288d7-ef11-4073-8bde-952ada271d4f"
      },
      "execution_count": null,
      "outputs": [
        {
          "output_type": "display_data",
          "data": {
            "text/plain": [
              "<Figure size 360x2952 with 20 Axes>"
            ],
            "image/png": "[encoded data removed]"
          },
          "metadata": {
            "needs_background": "light"
          }
        }
      ]
    },
    {
      "cell_type": "code",
      "source": [
        "n = 5\n",
        "n_examples = 5\n",
        "lsa_X_train_tfidf = svd.transform(X_train_tfidf)\n",
        "lsa_X_train_tfidf = sparse.csr_matrix(lsa_X_train_tfidf)\n",
        "\n",
        "print(lsa_X_train_tfidf.shape)\n",
        "print_n_most_similar_docs(lsa_X_train_tfidf, X_train_tfidf, vsm_tfidf, n, n_examples)"
      ],
      "metadata": {
        "colab": {
          "base_uri": "https://localhost:8080/"
        },
        "id": "tUunEXw5npe6",
        "outputId": "db10fba1-0b35-4f4d-ae37-8fb4113924bd"
      },
      "execution_count": null,
      "outputs": [
        {
          "output_type": "stream",
          "name": "stdout",
          "text": [
            "(35000, 20)\n",
            "Example 1\n",
            "Doc:clown listen killers haunted player daughter mountain brings watched warning wish everything writing killed serial help stop dead sick what most fan directing isnt seriously dvd night seen never watch films crap waiting acting actually pacing group tell missing back youve wrong thats house find lot bad how still but movies its people know dont time late go like this could the i\n",
            "\n",
            "Using Euclidean distance:\n",
            "clown listen killers haunted player daughter mountain brings watched warning wish everything writing killed serial\n",
            "moved continued dysfunctional dad farm whenever basement soul died mom san aint nasty collection guess\n",
            "swear record 210 nightmares stopped commercials price five segment bother each dreams features picked entertaining\n",
            "balls dubbing fly doctors compelled placed sucks par zombies survive wait r guess turning horribly\n",
            "evident twelve animal dangerous australian waters 11 aged ruin deaths fifteen shark creatures hundred australia\n",
            "\n",
            "Using Cosine similarity:\n",
            "clown listen killers haunted player daughter mountain brings watched warning wish everything writing killed serial\n",
            "swear record 210 nightmares stopped commercials price five segment bother each dreams features picked entertaining\n",
            "moved continued dysfunctional dad farm whenever basement soul died mom san aint nasty collection guess\n",
            "vampires blockbuster creatures zombies finished etc whatsoever scare liked took watched filmed creature failed picked\n",
            "passes unintentional aka 80 credibility flying blow thoughtprovoking answer rules hate top sucks killing creatures\n",
            "------------------------------\n",
            "Example 2\n",
            "Doc:triumph london combat dramas reaction courage arms increasingly luck public wins escape turned brings chief became case humor chaplin difference dream hilarious greatest films charlie war in serious great actual people time would hit the\n",
            "\n",
            "Using Euclidean distance:\n",
            "triumph london combat dramas reaction courage arms increasingly luck public wins escape turned brings chief\n",
            "broken haunted ii past kurt w agent dig propaganda self younger tale wish 7 howard\n",
            "contrary terrorist individual consequences factor connect comparison choices latest projects reveal hey wilson whose etc\n",
            "empire e europe 25 tom state died fighting army captain hopeless front heroes returned whose\n",
            "superman heroic taught identify generation within motion lessons remembered hollywoods james heroes public conflict batman\n",
            "\n",
            "Using Cosine similarity:\n",
            "triumph london combat dramas reaction courage arms increasingly luck public wins escape turned brings chief\n",
            "overcome hitler training existence hysterical upset speech capturing germans medium tree anger europe target result\n",
            "square eastern garden hitler training conceived africa spell received armed peace strip ordered fell europe\n",
            "advanced hitler 24 nazis deserved usa germans nazi broken stayed received mass millions contain peace\n",
            "terrorist hitler groups lord nazis soviet buffs motives horrors learned composed simplistic ii deaths 50\n",
            "------------------------------\n",
            "Example 3\n",
            "Doc:interaction loving pet model cry have thick 910 thin humans animals soundtrack compared incredible dogs dialogue age whos ie cats meant moment mention rated used perfectly lost young spot three to remember emotion better course moments yes wonderful feeling chance role favorite never says comfortable thought youd watch think kid matter soft cheesy end if gives make even decide last find character film must seems family give feel still shadow real dont not perfect time ever like little way without could one the movie love i much\n",
            "\n",
            "Using Euclidean distance:\n",
            "interaction loving pet model cry have thick 910 thin humans animals soundtrack compared incredible dogs\n",
            "guide joan witch description hate killing starring section whos then television ordinary desire read started\n",
            "sadness alas everybody friendship created innocence 15 animated simon younger knows glad proves provided deserves\n",
            "aka meaningful uplifting mature marry distinct inside disbelief lesson will lessons soul emotional experience angry\n",
            "lifetime sadness evident loneliness switch response lonely julie connect comparison shorts soul humans overall spent\n",
            "\n",
            "Using Cosine similarity:\n",
            "interaction loving pet model cry have thick 910 thin humans animals soundtrack compared incredible dogs\n",
            "sadness alas everybody friendship created innocence 15 animated simon younger knows glad proves provided deserves\n",
            "aka meaningful uplifting mature marry distinct inside disbelief lesson will lessons soul emotional experience angry\n",
            "guide joan witch description hate killing starring section whos then television ordinary desire read started\n",
            "interaction breath sin delight nervous explore repeat successfully inside favorites awesome tom social shorts alexander\n",
            "------------------------------\n",
            "Example 4\n",
            "Doc:advanced iron ice asleep dressed superior wait was falling age bother technology miles reason rent means sort kept youll what explained science wonder around seeing never please clear want hes if set you see supposed comes black its really know dont first years guy another one movie much\n",
            "\n",
            "Using Euclidean distance:\n",
            "advanced iron ice asleep dressed superior wait was falling age bother technology miles reason rent\n",
            "satan buy engaging water beginning evil rent dumb straight yes arnold a and somebody watch\n",
            "lasted feet sappy here warned soul purchase portrays marriage married weeks jumps ago lost coming\n",
            "disappears taught castle huh lesson idiots buy send workers stuff is beginning buying human dumb\n",
            "sophisticated eddie lust thick press beat drinking okay guests hotel run basically britain boys antics\n",
            "\n",
            "Using Cosine similarity:\n",
            "advanced iron ice asleep dressed superior wait was falling age bother technology miles reason rent\n",
            "satan buy engaging water beginning evil rent dumb straight yes arnold a and somebody watch\n",
            "pushed ships knife matrix lower 110 died agent buy wait created 20 trilogy figure smith\n",
            "lasted feet sappy here warned soul purchase portrays marriage married weeks jumps ago lost coming\n",
            "disappears taught castle huh lesson idiots buy send workers stuff is beginning buying human dumb\n",
            "------------------------------\n",
            "Example 5\n",
            "Doc:again responsibility wake rely metaphor rescue belief flawless consequences individuals prostitute beliefs suffer aunt held sole inside ghost accidentally hiding lover mothers bed catholic an reflection grandmother bothered killing acts daughter exists audiences immediately continues exposed noticed hope grave believed circumstances sea intriguing among faith religious caused emotions builds ie allowed finish commentary example stuck eager knowing already supernatural small likely portrayed idea together husband opportunity killed with least rest used suffered actions able la interesting when coming stand alive dead car beyond what play bond light believe culture seemed full almost treated isnt ones viewer chance role director death friend fact need mother thought mean independent living care show shot act her father make city their shortly in done business back life place supposed shes comes character film depicted return members women well seems family give still seem things also people across say dont mixed first going takes way another without one the love i\n",
            "\n",
            "Using Euclidean distance:\n",
            "again responsibility wake rely metaphor rescue belief flawless consequences individuals prostitute beliefs suffer aunt held\n",
            "rid portray teaching jealous viewed dress during lately everyday neighborhood affairs rules built burning sensitive\n",
            "associated responsibility notion behavior electric upset huh timing intimate adults nonsense were fonda ann engage\n",
            "companion represent sally statement marie dragged sudden marvelous lonely ghosts opened disappear disappeared hiding therefore\n",
            "distance recognize neighbor nearby frustrating couldve cabin alcoholic spirits dangerous lose revealed prison abuse fellow\n",
            "\n",
            "Using Cosine similarity:\n",
            "again responsibility wake rely metaphor rescue belief flawless consequences individuals prostitute beliefs suffer aunt held\n",
            "associated responsibility notion behavior electric upset huh timing intimate adults nonsense were fonda ann engage\n",
            "rid portray teaching jealous viewed dress during lately everyday neighborhood affairs rules built burning sensitive\n",
            "frequent basis blade primary recognize unfold introduction meaningful inner dan folk lands veteran relatives jobs\n",
            "sleeping lifetime loneliness easier dinner raised passionate spare discovers stayed widow revealed unsettling peace anger\n",
            "------------------------------\n"
          ]
        }
      ]
    },
    {
      "cell_type": "markdown",
      "source": [
        "##### Matriz term x document"
      ],
      "metadata": {
        "id": "AVofvwire__r"
      }
    },
    {
      "cell_type": "code",
      "source": [
        "from sklearn.decomposition import TruncatedSVD\n",
        "n_components = 20\n",
        "\n",
        "svd = TruncatedSVD(n_components=n_components, random_state=42)\n",
        "svd.fit(X_train_tfidf.transpose())"
      ],
      "metadata": {
        "colab": {
          "base_uri": "https://localhost:8080/"
        },
        "id": "Ls5EJ1fufCU0",
        "outputId": "340a3742-3dd9-4e0e-d47c-19bd08b7804f"
      },
      "execution_count": null,
      "outputs": [
        {
          "output_type": "execute_result",
          "data": {
            "text/plain": [
              "TruncatedSVD(n_components=20, random_state=42)"
            ]
          },
          "metadata": {},
          "execution_count": 41
        }
      ]
    },
    {
      "cell_type": "code",
      "source": [
        "S = svd.singular_values_\n",
        "sns.barplot(x=list(range(len(S))), y = S)"
      ],
      "metadata": {
        "colab": {
          "base_uri": "https://localhost:8080/",
          "height": 283
        },
        "id": "qM_E92HSfG9V",
        "outputId": "a393a8a7-734a-47d8-96dd-01837fbbe759"
      },
      "execution_count": null,
      "outputs": [
        {
          "output_type": "execute_result",
          "data": {
            "text/plain": [
              "<matplotlib.axes._subplots.AxesSubplot at 0x7fde7eac6fa0>"
            ]
          },
          "metadata": {},
          "execution_count": 42
        },
        {
          "output_type": "display_data",
          "data": {
            "text/plain": [
              "<Figure size 432x288 with 1 Axes>"
            ],
            "image/png": "[encoded data removed]"
          },
          "metadata": {
            "needs_background": "light"
          }
        }
      ]
    },
    {
      "cell_type": "code",
      "source": [
        "from scipy import sparse\n",
        "lsa_terms = svd.transform(X_train_tfidf.transpose())\n",
        "lsa_terms = sparse.csr_matrix(lsa_terms)"
      ],
      "metadata": {
        "id": "cGcgErT7fUyf"
      },
      "execution_count": null,
      "outputs": []
    },
    {
      "cell_type": "code",
      "source": [
        "n = 5\n",
        "n_examples = 5\n",
        "print_n_most_similar_words(lsa_terms, vsm_tfidf, n, n_examples)"
      ],
      "metadata": {
        "colab": {
          "base_uri": "https://localhost:8080/"
        },
        "id": "8kTLaD0VobKs",
        "outputId": "efcbc364-6b8f-4770-a31b-2ac099410f77"
      },
      "execution_count": null,
      "outputs": [
        {
          "output_type": "stream",
          "name": "stdout",
          "text": [
            "Example 1\n",
            "Chosen word: alive\n",
            "Using Euclidean distance:alive victims escape control decide\n",
            "\n",
            "Using Cosine similarity:alive death trapped inside meat\n",
            "------------------------------\n",
            "Example 2\n",
            "Chosen word: border\n",
            "Using Euclidean distance:border heroic trade armed wounded\n",
            "\n",
            "Using Cosine similarity:border forces training army heroic\n",
            "------------------------------\n",
            "Example 3\n",
            "Chosen word: wasting\n",
            "Using Euclidean distance:wasting 0 warn warned f\n",
            "\n",
            "Using Cosine similarity:wasting horrible pile paid worse\n",
            "------------------------------\n",
            "Example 4\n",
            "Chosen word: deadly\n",
            "Using Euclidean distance:deadly hiding trapped escapes attacked\n",
            "\n",
            "Using Cosine similarity:deadly revenge hiding guard threatening\n",
            "------------------------------\n",
            "Example 5\n",
            "Chosen word: keith\n",
            "Using Euclidean distance:keith alfred secretary suspects hitchcocks\n",
            "\n",
            "Using Cosine similarity:keith alfred suspects secretary douglas\n",
            "------------------------------\n"
          ]
        }
      ]
    },
    {
      "cell_type": "markdown",
      "source": [
        "#### Classificação"
      ],
      "metadata": {
        "id": "LLF26mripy3F"
      }
    },
    {
      "cell_type": "markdown",
      "source": [
        "##### TF-IDF"
      ],
      "metadata": {
        "id": "3ar4YWRUp0PD"
      }
    },
    {
      "cell_type": "code",
      "source": [
        "from sklearn.linear_model import LogisticRegression\n",
        "\n",
        "clf = LogisticRegression()\n",
        "clf.fit(X_train_tfidf, y_train)\n",
        "clf.score(X_test_tfidf, y_test)"
      ],
      "metadata": {
        "colab": {
          "base_uri": "https://localhost:8080/"
        },
        "id": "ZtccHn1fp21M",
        "outputId": "916c3965-22f7-4c58-d40b-725ba5c373e6"
      },
      "execution_count": null,
      "outputs": [
        {
          "output_type": "execute_result",
          "data": {
            "text/plain": [
              "0.8888666666666667"
            ]
          },
          "metadata": {},
          "execution_count": 45
        }
      ]
    },
    {
      "cell_type": "code",
      "source": [
        "n_components = 200\n",
        "\n",
        "svd = TruncatedSVD(n_components=n_components, random_state=42)\n",
        "svd.fit(X_train_tfidf)\n",
        "\n",
        "lsa_X_train_tfidf = svd.transform(X_train_tfidf)\n",
        "lsa_X_test_tfidf = svd.transform(X_test_tfidf)\n",
        "\n",
        "clf = LogisticRegression()\n",
        "clf.fit(lsa_X_train_tfidf, y_train)\n",
        "clf.score(lsa_X_test_tfidf, y_test)"
      ],
      "metadata": {
        "colab": {
          "base_uri": "https://localhost:8080/"
        },
        "id": "T7OhCMBdp9Q9",
        "outputId": "c1440b12-89b5-4366-e27e-07e547bb2d40"
      },
      "execution_count": null,
      "outputs": [
        {
          "output_type": "execute_result",
          "data": {
            "text/plain": [
              "0.8662666666666666"
            ]
          },
          "metadata": {},
          "execution_count": 46
        }
      ]
    },
    {
      "cell_type": "markdown",
      "source": [
        "## Matriz term x term"
      ],
      "metadata": {
        "id": "IdKmGOXS81G7"
      }
    },
    {
      "cell_type": "markdown",
      "source": [
        "Como estamos interessados apenas em Representation Learning vamos usar o df completo"
      ],
      "metadata": {
        "id": "eBBju-i9-YjI"
      }
    },
    {
      "cell_type": "markdown",
      "source": [
        "### Pointwise Mutual Information"
      ],
      "metadata": {
        "id": "2Jb8LYVM8l4S"
      }
    },
    {
      "cell_type": "markdown",
      "source": [
        "#### Construção da matriz de co-ocorrência"
      ],
      "metadata": {
        "id": "pO3_rG35-Dai"
      }
    },
    {
      "cell_type": "code",
      "source": [
        "# from collections import defaultdict\n",
        "\n",
        "# def get_co_occurrence(sentences, L=5):\n",
        "#     term_term = defaultdict(int)\n",
        "#     vocabulary = set()\n",
        "#     for sentence in tqdm(sentences):\n",
        "#         tokens = word_tokenize(sentence.lower())\n",
        "#         for idx, token in enumerate(tokens):\n",
        "#             vocabulary.add(token)\n",
        "            \n",
        "#             left_bound = idx-L if idx-L>0 else 0\n",
        "#             right_bound = idx + 1 + L\n",
        "#             contexts = tokens[idx+1 : right_bound]\n",
        "#             contexts.extend(tokens[left_bound : idx])\n",
        "\n",
        "#             for context in contexts:\n",
        "#                 word_context = tuple(sorted([token,context]))\n",
        "#                 term_term[word_context] += 1\n",
        "    \n",
        "    \n",
        "#     vocabulary = sorted(vocabulary)\n",
        "#     n_words = len(vocabulary)\n",
        "\n",
        "#     rowsMatrix = []\n",
        "#     columnsMatrix = []\n",
        "#     dataMatrix = []\n",
        "        \n",
        "#     for (token1, token2), count in term_term.items():\n",
        "#         rowsMatrix.append(token1)\n",
        "#         columnsMatrix.append(token2)\n",
        "#         dataMatrix.append(count)\n",
        "#         rowsMatrix.append(token2)\n",
        "#         columnsMatrix.append(token1)\n",
        "#         dataMatrix.append(count)\n",
        "\n",
        "#     return sparse.csr_matrix((dataMatrix, (rowsMatrix, columnsMatrix)))"
      ],
      "metadata": {
        "id": "Ik2_k3ps8oev"
      },
      "execution_count": null,
      "outputs": []
    },
    {
      "cell_type": "code",
      "source": [
        "# L = 5\n",
        "# co_occurrence = get_co_occurrence(df['review'], L=L)"
      ],
      "metadata": {
        "id": "8nSzcjy9Gp8q"
      },
      "execution_count": null,
      "outputs": []
    },
    {
      "cell_type": "code",
      "source": [
        "tokenize = lambda x: word_tokenize(x.lower())\n",
        "sentences = df['review'].progress_apply(word_tokenize)"
      ],
      "metadata": {
        "colab": {
          "base_uri": "https://localhost:8080/"
        },
        "id": "1_Z4y2fbOp_P",
        "outputId": "ee237091-3751-4de8-f36f-f2a552399837"
      },
      "execution_count": null,
      "outputs": [
        {
          "output_type": "stream",
          "name": "stderr",
          "text": [
            "100%|██████████| 50000/50000 [00:35<00:00, 1420.61it/s]\n"
          ]
        }
      ]
    },
    {
      "cell_type": "code",
      "source": [
        "sentences"
      ],
      "metadata": {
        "colab": {
          "base_uri": "https://localhost:8080/"
        },
        "id": "I90UAGn2S9oh",
        "outputId": "984c0cac-aa56-41a8-a2c6-c20f4ed9d769"
      },
      "execution_count": null,
      "outputs": [
        {
          "output_type": "execute_result",
          "data": {
            "text/plain": [
              "0        [one, reviewers, mentioned, watching, 1, oz, e...\n",
              "1        [a, wonderful, little, production, the, filmin...\n",
              "2        [i, thought, wonderful, way, spend, time, hot,...\n",
              "3        [basically, theres, family, little, boy, jake,...\n",
              "4        [petter, matteis, love, time, money, visually,...\n",
              "                               ...                        \n",
              "49995    [i, thought, movie, right, good, job, it, wasn...\n",
              "49996    [bad, plot, bad, dialogue, bad, acting, idioti...\n",
              "49997    [i, catholic, taught, parochial, elementary, s...\n",
              "49998    [im, going, disagree, previous, comment, side,...\n",
              "49999    [no, one, expects, star, trek, movies, high, a...\n",
              "Name: review, Length: 50000, dtype: object"
            ]
          },
          "metadata": {},
          "execution_count": 125
        }
      ]
    },
    {
      "cell_type": "markdown",
      "source": [
        "##### Contagem de unigramas"
      ],
      "metadata": {
        "id": "miLpryZ1PtcJ"
      }
    },
    {
      "cell_type": "code",
      "source": [
        "from collections import Counter \n",
        "\n",
        "def getUnigramsCount(sentences) -> Counter():\n",
        "    unigrams = Counter()\n",
        "    for sentence in tqdm(sentences):\n",
        "        for token in sentence:\n",
        "            unigrams[token] += 1\n",
        "            \n",
        "    return unigrams"
      ],
      "metadata": {
        "id": "3unBwVn_OSgT"
      },
      "execution_count": null,
      "outputs": []
    },
    {
      "cell_type": "code",
      "source": [
        "unigrams = getUnigramsCount(sentences)\n",
        "token2index = {token: index for index, token in enumerate(unigrams.keys())}\n",
        "index2token = {index: token for token, index in token2index.items()}"
      ],
      "metadata": {
        "colab": {
          "base_uri": "https://localhost:8080/"
        },
        "id": "SHgGPEHYPOl4",
        "outputId": "8b8be7ca-ccc7-4ea9-8f3f-ea7cb0f9a66c"
      },
      "execution_count": null,
      "outputs": [
        {
          "output_type": "stream",
          "name": "stderr",
          "text": [
            "100%|██████████| 50000/50000 [00:03<00:00, 12575.94it/s]\n"
          ]
        }
      ]
    },
    {
      "cell_type": "markdown",
      "source": [
        "##### Contagem de Bigramas"
      ],
      "metadata": {
        "id": "2EMs_j8aP38u"
      }
    },
    {
      "cell_type": "code",
      "source": [
        "def getSkipGramsCount(\n",
        "    sentences : str, token2index : dict, gap = 3\n",
        ") -> Counter():\n",
        "\n",
        "    # Contador de bigramas, considerando uma determinada janela de contexto (nesse caso, 'gap'\n",
        "    # palavras antes e 'gap' palavras depois)\n",
        "    skipgrams = Counter()\n",
        "\n",
        "    for sentence in tqdm(sentences):\n",
        "        tokens = [token2index[tok] for tok in sentence]\n",
        "\n",
        "        # Para cada palavra no parágrafo, realiza a análise dos contextos da vizinhança\n",
        "        for indexWord, word in enumerate(sentence):\n",
        "            indexContextMin = max(0, indexWord - gap)\n",
        "            indexContextMax = min(len(sentence)-1, indexWord + gap)\n",
        "\n",
        "            # Para cada contexto da vizinhança, crie um bigrama com a palavra central\n",
        "            indexContexts = [\n",
        "                index for index in range(indexContextMin, indexContextMax + 1) \n",
        "                if index != indexWord\n",
        "            ]\n",
        "            for indexContext in indexContexts:\n",
        "                skipgram = (tokens[indexWord], tokens[indexContext])\n",
        "                skipgrams[skipgram] += 1\n",
        "    \n",
        "    return skipgrams"
      ],
      "metadata": {
        "id": "aA-QWVzwP9jO"
      },
      "execution_count": null,
      "outputs": []
    },
    {
      "cell_type": "code",
      "source": [
        "skipgrams = getSkipGramsCount(sentences, token2index)"
      ],
      "metadata": {
        "colab": {
          "base_uri": "https://localhost:8080/"
        },
        "id": "1dlG4Q0bQZ3S",
        "outputId": "c5b55faf-9bde-467f-ac45-593e9701580e"
      },
      "execution_count": null,
      "outputs": [
        {
          "output_type": "stream",
          "name": "stderr",
          "text": [
            "100%|██████████| 50000/50000 [01:03<00:00, 787.08it/s]\n"
          ]
        }
      ]
    },
    {
      "cell_type": "markdown",
      "source": [
        "#### Removendo algumas palavras"
      ],
      "metadata": {
        "id": "X0HJUH6nbvAC"
      }
    },
    {
      "cell_type": "code",
      "source": [
        "def removeUnigrams(\n",
        "    minCount : int, maxCount : int, token2index : dict, index2token : dict, \n",
        "    unigrams : Counter(), skipgrams : Counter()\n",
        "):\n",
        "    \n",
        "    # Remoção de tokens muito frequentes ou muito raros\n",
        "    updatedtoken2index = token2index.copy()\n",
        "    updatedindex2token = index2token.copy()\n",
        "\n",
        "    for token in list(unigrams.keys()):\n",
        "        if unigrams[token] < minCount or unigrams[token] > maxCount:\n",
        "            del unigrams[token]\n",
        "            index = token2index[token]\n",
        "            del updatedtoken2index[token]\n",
        "            del updatedindex2token[index]\n",
        "    \n",
        "    for word, context in list(skipgrams.keys()):\n",
        "        if index2token[word] not in unigrams or index2token[context] not in unigrams:\n",
        "            del skipgrams[(word, context)]\n",
        "    \n",
        "    return updatedindex2token, updatedtoken2index"
      ],
      "metadata": {
        "id": "wgrh28MgbyL6"
      },
      "execution_count": null,
      "outputs": []
    },
    {
      "cell_type": "code",
      "source": [
        "# vocabulary = unigrams.keys()\n",
        "# print(len(vocabulary))\n",
        "# minCount, maxCount = (1 / 1000) * len(vocabulary), (1 / 50) * len(vocabulary)\n",
        "# index2tokenHN, token2indexHN = removeUnigrams(minCount, maxCount, token2index, index2token,\n",
        "#                                               unigrams, skipgrams)\n",
        "\n",
        "# print(minCount, maxCount)\n",
        "# vocabulary = unigrams.keys()\n",
        "# print(len(vocabulary))"
      ],
      "metadata": {
        "colab": {
          "base_uri": "https://localhost:8080/"
        },
        "id": "7HxsJS6Gb1h6",
        "outputId": "949eac16-a2e5-4a8b-9539-5ae43685fea5"
      },
      "execution_count": null,
      "outputs": [
        {
          "output_type": "stream",
          "name": "stdout",
          "text": [
            "221774\n",
            "221.774 4435.4800000000005\n",
            "3547\n"
          ]
        }
      ]
    },
    {
      "cell_type": "markdown",
      "source": [
        "##### Criação da matriz de co-ocorrência"
      ],
      "metadata": {
        "id": "TDEuC6P6Q1W4"
      }
    },
    {
      "cell_type": "code",
      "source": [
        "def getCountMatrix(skipgrams : Counter()) -> sparse.csr_matrix:\n",
        "    # Mapeamento das entradas da matriz esparça de frequência entre os bigramas do texto\n",
        "    rowsMatrix = []\n",
        "    columnsMatrix = []\n",
        "    dataMatrix = []\n",
        "\n",
        "    for (token1, token2), skipgramCount in tqdm(skipgrams.items()):\n",
        "        rowsMatrix.append(token1)\n",
        "        columnsMatrix.append(token2)\n",
        "        dataMatrix.append(skipgramCount)\n",
        "\n",
        "    return sparse.csr_matrix((dataMatrix, (rowsMatrix, columnsMatrix)))"
      ],
      "metadata": {
        "id": "DP20SnY5Qd3C"
      },
      "execution_count": null,
      "outputs": []
    },
    {
      "cell_type": "code",
      "source": [
        "wwMatrix = getCountMatrix(skipgrams)"
      ],
      "metadata": {
        "colab": {
          "base_uri": "https://localhost:8080/"
        },
        "id": "PLqkOgyTRCLR",
        "outputId": "fec4e01e-cbee-42fa-c5d9-d2330c99bb04"
      },
      "execution_count": null,
      "outputs": [
        {
          "output_type": "stream",
          "name": "stderr",
          "text": [
            "100%|██████████| 3442677/3442677 [00:02<00:00, 1544743.71it/s]\n"
          ]
        }
      ]
    },
    {
      "cell_type": "markdown",
      "source": [
        "##### Aplicando o reweighting PPMI"
      ],
      "metadata": {
        "id": "FcWQNWHnRH-t"
      }
    },
    {
      "cell_type": "code",
      "source": [
        "def getPPMImatrix(wwMatrix : sparse.csr_matrix, skipgrams : Counter()) -> sparse.csr_matrix:\n",
        "    # Número total de bigramas presente na matriz de frequência\n",
        "    numSkipgrams = wwMatrix.sum()\n",
        "\n",
        "    # Mapeamento das entradas da matriz PPMI\n",
        "    rowsIndex = []\n",
        "    columnsIndex = []\n",
        "    ppmiData = []\n",
        "\n",
        "    # Vetor de frequência total de cada palavra em todos os possíveis contextos\n",
        "    sumWords = np.array(wwMatrix.sum(axis=0)).flatten()\n",
        "\n",
        "    # Vetor de frequência total de cada contexto para todas as possíveis palavras\n",
        "    sumContexts = np.array(wwMatrix.sum(axis=1)).flatten()\n",
        "\n",
        "    for (tokenWord, tokenContext), skipgramCount in tqdm(skipgrams.items()):\n",
        "\n",
        "        # Frequência de determinada palavra em determinado contexto\n",
        "        # [#(w,c)]\n",
        "        freqWordContext = skipgramCount\n",
        "\n",
        "        # Frequência de determinada palavra em todos os contextos possíveis\n",
        "        # [#(w)]\n",
        "        freqWord = sumContexts[tokenWord]\n",
        "\n",
        "        # Frequência de determinado contexto para todas as palavras possíveis\n",
        "        # [#(c)]\n",
        "        freqContext = sumWords[tokenContext]\n",
        "\n",
        "        # Probabilidade de ocorrência de determinada palavra em determinado contexto\n",
        "        # [P(w,c)]\n",
        "        probWordContext = freqWordContext / numSkipgrams\n",
        "\n",
        "        # Probabilidade de ocorrência de determinada palavra individualmente\n",
        "        # [P(w)]\n",
        "        probWord = freqWord / numSkipgrams\n",
        "\n",
        "        # Probabilidade de ocorrência de determinado contexto individualmente\n",
        "        # [P(c)]\n",
        "        probContext = freqContext / numSkipgrams\n",
        "\n",
        "        # Cálculo PPMI (Positive Pointwise Mutual Information)\n",
        "        # [PPMI = max(0, log( P(w,c)/(P(w)P(c)) ))]\n",
        "        PPMI = max(np.log2(probWordContext / (probWord * probContext)), 0)\n",
        "\n",
        "        rowsIndex.append(tokenWord)\n",
        "        columnsIndex.append(tokenContext)\n",
        "        ppmiData.append(PPMI)\n",
        "\n",
        "    return sparse.csr_matrix((ppmiData, (rowsIndex, columnsIndex)))"
      ],
      "metadata": {
        "id": "h3FDsjojRTMW"
      },
      "execution_count": null,
      "outputs": []
    },
    {
      "cell_type": "code",
      "source": [
        "ppmiMatrix = getPPMImatrix(wwMatrix, skipgrams)\n",
        "vocab_size = len(unigrams)"
      ],
      "metadata": {
        "colab": {
          "base_uri": "https://localhost:8080/"
        },
        "id": "_mV2yTDCRbpV",
        "outputId": "db927a6e-99af-4892-b1ef-0370d11d3a9b"
      },
      "execution_count": null,
      "outputs": [
        {
          "output_type": "stream",
          "name": "stderr",
          "text": [
            "100%|██████████| 3442677/3442677 [00:12<00:00, 275559.50it/s]\n"
          ]
        }
      ]
    },
    {
      "cell_type": "code",
      "source": [
        "from sklearn.metrics.pairwise import cosine_similarity\n",
        "\n",
        "# Cálculo dos 10 contextos mais similares a dada palavra utilizando a matriz de Word Embedding\n",
        "def wordsSimilarity(\n",
        "    word : str, matrix : np.ndarray, token2index : dict, \n",
        "    index2token : dict, n : int\n",
        ") -> list:\n",
        "    wordIndex = token2index[word]\n",
        "\n",
        "    # Resgate do vetor representante de determinada palavra\n",
        "    if isinstance(matrix, sparse.csr_matrix):\n",
        "        wordVec = matrix.getrow(wordIndex)\n",
        "    else:\n",
        "        wordVec = matrix[wordIndex:wordIndex+1, :]\n",
        "        \n",
        "\n",
        "    # Cálculo da similidade (similaridade de vetores por cosseno)\n",
        "    similarity = cosine_similarity(matrix, wordVec).flatten()\n",
        "    sortedIndexes = np.argsort(-similarity)\n",
        "\n",
        "    # Retorno dos n contextos mais similares a dada palavra\n",
        "    similarityContextScores = [\n",
        "        (index2token[sortedIndex], similarity[sortedIndex]) \n",
        "        for sortedIndex in sortedIndexes[:n+1] \n",
        "        if index2token[sortedIndex] != word\n",
        "    ]\n",
        "\n",
        "    return similarityContextScores\n",
        "\n",
        "# Produz uma resenha sobre os contextos mais relacionados a determinada palavra\n",
        "def wordSimilarityReport(\n",
        "    word : str, matrix : np.ndarray, unigrams : Counter(), \n",
        "    token2index : dict, index2token : dict, n=5\n",
        "):\n",
        "    \n",
        "    print(f'\\'{word}\\'\\t Frequência total: {unigrams[word]}', end='\\n')\n",
        "\n",
        "    similarityContextScores = wordsSimilarity(\n",
        "        word, matrix, token2index, index2token, n\n",
        "    )\n",
        "    \n",
        "    for context, similarity in similarityContextScores:\n",
        "        print(f'(\\'{context}\\', {similarity})', end='\\t')\n",
        "\n",
        "# Expande a lista de contextos similares para determinada palavra\n",
        "def getExamplesSimilarity(\n",
        "    examples : list, wordVecs : np.ndarray, unigrams : Counter(),\n",
        "    token2index : dict, index2token : dict\n",
        "):\n",
        "    for word in examples:\n",
        "        wordSimilarityReport(word, wordVecs, unigrams, token2index, index2token)\n",
        "        print('\\n'+'---'*20)"
      ],
      "metadata": {
        "id": "5Om-H7V2R306"
      },
      "execution_count": null,
      "outputs": []
    },
    {
      "cell_type": "markdown",
      "source": [
        "#### Avaliando similaridade"
      ],
      "metadata": {
        "id": "dANs868EXLeE"
      }
    },
    {
      "cell_type": "code",
      "source": [
        "'terrible' in vocabulary"
      ],
      "metadata": {
        "colab": {
          "base_uri": "https://localhost:8080/"
        },
        "id": "qvGpstGGUfhj",
        "outputId": "a49d3664-5f2e-4a59-cbc4-153d85bc848d"
      },
      "execution_count": null,
      "outputs": [
        {
          "output_type": "execute_result",
          "data": {
            "text/plain": [
              "True"
            ]
          },
          "metadata": {},
          "execution_count": 137
        }
      ]
    },
    {
      "cell_type": "code",
      "source": [
        "examples = [\n",
        "    'starring', 'star', 'music', 'harry', 'tarantino', 'director', 'theater',\n",
        "    'wars', 'musical', 'terror', 'awesome', 'terrible', 'series', 'movie',\n",
        "    'scene'\n",
        "]\n",
        "getExamplesSimilarity(\n",
        "    examples, ppmiMatrix, unigrams, token2index, index2token)\n"
      ],
      "metadata": {
        "colab": {
          "base_uri": "https://localhost:8080/"
        },
        "id": "f8caiq3rSNl1",
        "outputId": "b920b107-05f5-41c4-a35d-33433265c1c5"
      },
      "execution_count": null,
      "outputs": [
        {
          "output_type": "stream",
          "name": "stdout",
          "text": [
            "'starring'\t Frequência total: 875\n",
            "('plays', 0.5127740001931977)\t('robert', 0.440197453688079)\t('john', 0.43965205721145934)\t('directed', 0.4381072515817479)\t('actor', 0.42138267556427944)\t\n",
            "------------------------------------------------------------\n",
            "'star'\t Frequência total: 3526\n",
            "('stars', 0.45403819514321814)\t('john', 0.35761713102473053)\t('plays', 0.35478060653787274)\t('starring', 0.35413978376575184)\t('actor', 0.3348323575862658)\t\n",
            "------------------------------------------------------------\n",
            "'music'\t Frequência total: 0\n",
            "('one', 0.0)\t('eugene', 0.0)\t('garbos', 0.0)\t('striking', 0.0)\t('pairs', 0.0)\t('evies', 0.0)\t\n",
            "------------------------------------------------------------\n",
            "'harry'\t Frequência total: 750\n",
            "('plays', 0.3686283108195081)\t('john', 0.33656918406755504)\t('named', 0.3316277576268914)\t('robert', 0.3258015294132891)\t('starring', 0.3234898023064477)\t\n",
            "------------------------------------------------------------\n",
            "'tarantino'\t Frequência total: 0\n",
            "('one', 0.0)\t('eugene', 0.0)\t('garbos', 0.0)\t('striking', 0.0)\t('pairs', 0.0)\t('evies', 0.0)\t\n",
            "------------------------------------------------------------\n",
            "'director'\t Frequência total: 0\n",
            "('one', 0.0)\t('eugene', 0.0)\t('garbos', 0.0)\t('striking', 0.0)\t('pairs', 0.0)\t('evies', 0.0)\t\n",
            "------------------------------------------------------------\n",
            "'theater'\t Frequência total: 1515\n",
            "('theatre', 0.43898198932192467)\t('remember', 0.3274303750300418)\t('theaters', 0.32422089397736187)\t('came', 0.3181119110050691)\t('ago', 0.3175947355977123)\t\n",
            "------------------------------------------------------------\n",
            "'wars'\t Frequência total: 607\n",
            "('star', 0.3315460513636868)\t('war', 0.2812385590557857)\t('alien', 0.26196039459620096)\t('matrix', 0.25422396635344446)\t('earth', 0.2536895357257502)\t\n",
            "------------------------------------------------------------\n",
            "'musical'\t Frequência total: 1718\n",
            "('songs', 0.45072252241624244)\t('score', 0.4064317546854617)\t('numbers', 0.38969433843253676)\t('wonderful', 0.3876175027634647)\t('song', 0.38410145866019074)\t\n",
            "------------------------------------------------------------\n",
            "'terror'\t Frequência total: 426\n",
            "('fear', 0.3204192230767712)\t('creepy', 0.2810894163697916)\t('mystery', 0.2716270260352272)\t('suspense', 0.26876566208649655)\t('of', 0.2611887636010261)\t\n",
            "------------------------------------------------------------\n",
            "'awesome'\t Frequência total: 924\n",
            "('amazing', 0.39972400695895216)\t('fantastic', 0.36063573657402986)\t('cool', 0.3602010301565451)\t('excellent', 0.3591501119685401)\t('wonderful', 0.3449512454988497)\t\n",
            "------------------------------------------------------------\n",
            "'terrible'\t Frequência total: 3197\n",
            "('awful', 0.5585496495667365)\t('horrible', 0.5416936269986858)\t('poor', 0.47823610347918594)\t('dialogue', 0.4582674579697166)\t('ridiculous', 0.4269753212620919)\t\n",
            "------------------------------------------------------------\n",
            "'series'\t Frequência total: 0\n",
            "('one', 0.0)\t('eugene', 0.0)\t('garbos', 0.0)\t('striking', 0.0)\t('pairs', 0.0)\t('evies', 0.0)\t\n",
            "------------------------------------------------------------\n",
            "'movie'\t Frequência total: 0\n",
            "('one', 0.0)\t('eugene', 0.0)\t('garbos', 0.0)\t('striking', 0.0)\t('pairs', 0.0)\t('evies', 0.0)\t\n",
            "------------------------------------------------------------\n",
            "'scene'\t Frequência total: 0\n",
            "('one', 0.0)\t('eugene', 0.0)\t('garbos', 0.0)\t('striking', 0.0)\t('pairs', 0.0)\t('evies', 0.0)\t\n",
            "------------------------------------------------------------\n"
          ]
        }
      ]
    },
    {
      "cell_type": "markdown",
      "source": [
        "#### LSA"
      ],
      "metadata": {
        "id": "62MG1jG5VN4z"
      }
    },
    {
      "cell_type": "code",
      "source": [
        "from scipy.sparse.linalg import svds as SVD\n",
        "\n",
        "def getWordVecs(ppmiMatrix : sparse.csr_matrix, embeddingSize = 50) -> np.ndarray:\n",
        "    # Dimensão proposta da matriz de valores singulares produzida pelo SVD\n",
        "    # [Hiperparâmetro]\n",
        "    embeddingSize = 50\n",
        "\n",
        "    U, D, V = SVD(ppmiMatrix, embeddingSize)\n",
        "\n",
        "    # Normalização das matrizes de vetores singulares produzidas pelo SVD\n",
        "    Unorm = U / np.sqrt(np.sum(U*U, axis=1, keepdims=True))\n",
        "    Vnorm = V / np.sqrt(np.sum(V*V, axis=1, keepdims=True))\n",
        "\n",
        "    return Unorm"
      ],
      "metadata": {
        "id": "GXHVxIxCXSfO"
      },
      "execution_count": null,
      "outputs": []
    },
    {
      "cell_type": "code",
      "source": [
        "word_embeddings = getWordVecs(ppmiMatrix)"
      ],
      "metadata": {
        "id": "_xYrztYnXbXG"
      },
      "execution_count": null,
      "outputs": []
    },
    {
      "cell_type": "code",
      "source": [
        "getExamplesSimilarity(\n",
        "    examples, ppmiMatrix, unigrams, token2index, index2token)"
      ],
      "metadata": {
        "colab": {
          "base_uri": "https://localhost:8080/"
        },
        "id": "TmU0ftKGXf5R",
        "outputId": "09903d41-e330-4c1a-d562-6419ae4ca0b8"
      },
      "execution_count": null,
      "outputs": [
        {
          "output_type": "stream",
          "name": "stdout",
          "text": [
            "'starring'\t Frequência total: 875\n",
            "('plays', 0.5127740001931977)\t('robert', 0.440197453688079)\t('john', 0.43965205721145934)\t('directed', 0.4381072515817479)\t('actor', 0.42138267556427944)\t\n",
            "------------------------------------------------------------\n",
            "'star'\t Frequência total: 3526\n",
            "('stars', 0.45403819514321814)\t('john', 0.35761713102473053)\t('plays', 0.35478060653787274)\t('starring', 0.35413978376575184)\t('actor', 0.3348323575862658)\t\n",
            "------------------------------------------------------------\n",
            "'music'\t Frequência total: 0\n",
            "('one', 0.0)\t('eugene', 0.0)\t('garbos', 0.0)\t('striking', 0.0)\t('pairs', 0.0)\t('evies', 0.0)\t\n",
            "------------------------------------------------------------\n",
            "'harry'\t Frequência total: 750\n",
            "('plays', 0.3686283108195081)\t('john', 0.33656918406755504)\t('named', 0.3316277576268914)\t('robert', 0.3258015294132891)\t('starring', 0.3234898023064477)\t\n",
            "------------------------------------------------------------\n",
            "'tarantino'\t Frequência total: 0\n",
            "('one', 0.0)\t('eugene', 0.0)\t('garbos', 0.0)\t('striking', 0.0)\t('pairs', 0.0)\t('evies', 0.0)\t\n",
            "------------------------------------------------------------\n",
            "'director'\t Frequência total: 0\n",
            "('one', 0.0)\t('eugene', 0.0)\t('garbos', 0.0)\t('striking', 0.0)\t('pairs', 0.0)\t('evies', 0.0)\t\n",
            "------------------------------------------------------------\n",
            "'theater'\t Frequência total: 1515\n",
            "('theatre', 0.43898198932192467)\t('remember', 0.3274303750300418)\t('theaters', 0.32422089397736187)\t('came', 0.3181119110050691)\t('ago', 0.3175947355977123)\t\n",
            "------------------------------------------------------------\n",
            "'wars'\t Frequência total: 607\n",
            "('star', 0.3315460513636868)\t('war', 0.2812385590557857)\t('alien', 0.26196039459620096)\t('matrix', 0.25422396635344446)\t('earth', 0.2536895357257502)\t\n",
            "------------------------------------------------------------\n",
            "'musical'\t Frequência total: 1718\n",
            "('songs', 0.45072252241624244)\t('score', 0.4064317546854617)\t('numbers', 0.38969433843253676)\t('wonderful', 0.3876175027634647)\t('song', 0.38410145866019074)\t\n",
            "------------------------------------------------------------\n",
            "'terror'\t Frequência total: 426\n",
            "('fear', 0.3204192230767712)\t('creepy', 0.2810894163697916)\t('mystery', 0.2716270260352272)\t('suspense', 0.26876566208649655)\t('of', 0.2611887636010261)\t\n",
            "------------------------------------------------------------\n",
            "'awesome'\t Frequência total: 924\n",
            "('amazing', 0.39972400695895216)\t('fantastic', 0.36063573657402986)\t('cool', 0.3602010301565451)\t('excellent', 0.3591501119685401)\t('wonderful', 0.3449512454988497)\t\n",
            "------------------------------------------------------------\n",
            "'terrible'\t Frequência total: 3197\n",
            "('awful', 0.5585496495667365)\t('horrible', 0.5416936269986858)\t('poor', 0.47823610347918594)\t('dialogue', 0.4582674579697166)\t('ridiculous', 0.4269753212620919)\t\n",
            "------------------------------------------------------------\n",
            "'series'\t Frequência total: 0\n",
            "('one', 0.0)\t('eugene', 0.0)\t('garbos', 0.0)\t('striking', 0.0)\t('pairs', 0.0)\t('evies', 0.0)\t\n",
            "------------------------------------------------------------\n",
            "'movie'\t Frequência total: 0\n",
            "('one', 0.0)\t('eugene', 0.0)\t('garbos', 0.0)\t('striking', 0.0)\t('pairs', 0.0)\t('evies', 0.0)\t\n",
            "------------------------------------------------------------\n",
            "'scene'\t Frequência total: 0\n",
            "('one', 0.0)\t('eugene', 0.0)\t('garbos', 0.0)\t('striking', 0.0)\t('pairs', 0.0)\t('evies', 0.0)\t\n",
            "------------------------------------------------------------\n"
          ]
        }
      ]
    },
    {
      "cell_type": "markdown",
      "source": [
        "#### Visualizando"
      ],
      "metadata": {
        "id": "YHR-naJNX49f"
      }
    },
    {
      "cell_type": "markdown",
      "source": [
        "###### Plotando 2D"
      ],
      "metadata": {
        "id": "dgv08F2kZgD3"
      }
    },
    {
      "cell_type": "code",
      "source": [
        "def createWordVecsDataFrame(reducedWordVecs, token2index):\n",
        "    # Criando um dicionário para cada palavra e seu respectivo vetor após redução de dimensionalidade\n",
        "    dictReducedWordVecs = {}\n",
        "    for word, index in token2index.items():\n",
        "        dictReducedWordVecs[word] = reducedWordVecs[index]\n",
        "\n",
        "    # Instanciando o dataframe a partir do dicionario criado acima\n",
        "    dfWordVecs = pd.DataFrame.from_dict(\n",
        "        data = dictReducedWordVecs,\n",
        "        orient = 'index',\n",
        "        columns = ['x', 'y']\n",
        "    )\n",
        "    dfWordVecs['word'] = dfWordVecs.index\n",
        "    \n",
        "    return dfWordVecs"
      ],
      "metadata": {
        "id": "qNLHM6btYIZg"
      },
      "execution_count": null,
      "outputs": []
    },
    {
      "cell_type": "code",
      "source": [
        "# Configurando a ferramenta interativa com o notebook\n",
        "from bokeh.plotting import figure, show, output_notebook\n",
        "from bokeh.models import HoverTool, ColumnDataSource, value\n",
        "\n",
        "output_notebook()\n",
        "\n",
        "def interativePlot(df, title = None, xlabel = None, ylabel = None):\n",
        "    # Instancia uma ColumnDAtaSource do Bokeh usando o dataframe\n",
        "    data = ColumnDataSource(df)\n",
        "\n",
        "    # Cria o plot e configura:\n",
        "    # título, dimensões e ferramentas interativas\n",
        "    plot = figure(\n",
        "        title= title,\n",
        "        plot_width=800,\n",
        "        plot_height=800,\n",
        "        tools=(\n",
        "            'pan, wheel_zoom, box_zoom,'\n",
        "            'box_select, reset',\n",
        "            HoverTool(tooltips = '@word')\n",
        "            ),\n",
        "        active_scroll='wheel_zoom',\n",
        "        x_axis_label = xlabel,\n",
        "        y_axis_label = ylabel\n",
        "        )\n",
        "\n",
        "    # Desenha os circulos representado as palavras\n",
        "    plot.circle(\n",
        "        'x',\n",
        "        'y',\n",
        "        source=data,\n",
        "        color='blue',\n",
        "        line_alpha=0.2,\n",
        "        fill_alpha=0.1,\n",
        "        size=10,\n",
        "        hover_line_color='black'\n",
        "        )\n",
        "\n",
        "    # Configuração de outros detalhes visuais\n",
        "    plot.xaxis.visible = False\n",
        "    plot.yaxis.visible = False\n",
        "    plot.grid.grid_line_color = None\n",
        "    plot.outline_line_color = None\n",
        "\n",
        "\n",
        "    show(plot)"
      ],
      "metadata": {
        "id": "r04pGgtLX-qT"
      },
      "execution_count": null,
      "outputs": []
    },
    {
      "cell_type": "code",
      "source": [
        "!pip uninstall umap\n",
        "!pip install umap-learn\n",
        "import umap.umap_ as umap"
      ],
      "metadata": {
        "colab": {
          "base_uri": "https://localhost:8080/"
        },
        "id": "BaOcUSBGm3c6",
        "outputId": "f71cb893-7180-4526-d3cf-c58094f4ab0c"
      },
      "execution_count": null,
      "outputs": [
        {
          "output_type": "stream",
          "name": "stdout",
          "text": [
            "\u001b[33mWARNING: Skipping umap as it is not installed.\u001b[0m\n",
            "Looking in indexes: https://pypi.org/simple, https://us-python.pkg.dev/colab-wheels/public/simple/\n",
            "Requirement already satisfied: umap-learn in /usr/local/lib/python3.8/dist-packages (0.5.3)\n",
            "Requirement already satisfied: pynndescent>=0.5 in /usr/local/lib/python3.8/dist-packages (from umap-learn) (0.5.8)\n",
            "Requirement already satisfied: scipy>=1.0 in /usr/local/lib/python3.8/dist-packages (from umap-learn) (1.7.3)\n",
            "Requirement already satisfied: scikit-learn>=0.22 in /usr/local/lib/python3.8/dist-packages (from umap-learn) (1.0.2)\n",
            "Requirement already satisfied: numpy>=1.17 in /usr/local/lib/python3.8/dist-packages (from umap-learn) (1.21.6)\n",
            "Requirement already satisfied: numba>=0.49 in /usr/local/lib/python3.8/dist-packages (from umap-learn) (0.56.4)\n",
            "Requirement already satisfied: tqdm in /usr/local/lib/python3.8/dist-packages (from umap-learn) (4.64.1)\n",
            "Requirement already satisfied: importlib-metadata in /usr/local/lib/python3.8/dist-packages (from numba>=0.49->umap-learn) (4.13.0)\n",
            "Requirement already satisfied: llvmlite<0.40,>=0.39.0dev0 in /usr/local/lib/python3.8/dist-packages (from numba>=0.49->umap-learn) (0.39.1)\n",
            "Requirement already satisfied: setuptools in /usr/local/lib/python3.8/dist-packages (from numba>=0.49->umap-learn) (57.4.0)\n",
            "Requirement already satisfied: joblib>=0.11 in /usr/local/lib/python3.8/dist-packages (from pynndescent>=0.5->umap-learn) (1.2.0)\n",
            "Requirement already satisfied: threadpoolctl>=2.0.0 in /usr/local/lib/python3.8/dist-packages (from scikit-learn>=0.22->umap-learn) (3.1.0)\n",
            "Requirement already satisfied: zipp>=0.5 in /usr/local/lib/python3.8/dist-packages (from importlib-metadata->numba>=0.49->umap-learn) (3.10.0)\n"
          ]
        }
      ]
    },
    {
      "cell_type": "code",
      "source": [
        "from sklearn.manifold import TSNE\n",
        "from sklearn.decomposition import PCA\n",
        "\n",
        "def plotTSNE(wordVecs : np.ndarray, token2index : dict, title : str, sample = 900):\n",
        "    tsne = TSNE(metric = 'cosine')\n",
        "    reducedWordVecs = tsne.fit_transform(wordVecs)\n",
        "\n",
        "    dfWordVecs = createWordVecsDataFrame(reducedWordVecs, token2index)\n",
        "    interativePlot(dfWordVecs.sample(sample, random_state = 42), title = title)\n",
        "\n",
        "def plotPCA(wordVecs : np.ndarray, token2index : dict, title : str, sample = 900):\n",
        "\n",
        "    # Realizando redução de dimensão com PCA\n",
        "    pca = PCA(n_components = 2)\n",
        "    reducedWordVecs = pca.fit_transform(wordVecs)\n",
        "\n",
        "    dfWordVecs = createWordVecsDataFrame(reducedWordVecs, token2index)\n",
        "    interativePlot(dfWordVecs.sample(sample, random_state = 42), title = title)\n",
        "\n",
        "def plotUMAP(reducedWordVecs : np.ndarray, token2index : dict, title : str, sample = 900):\n",
        "\n",
        "    dfWordVecs = createWordVecsDataFrame(reducedWordVecs, token2index)\n",
        "    interativePlot(dfWordVecs.sample(sample, random_state = 42), title = title)\n",
        "\n"
      ],
      "metadata": {
        "id": "8wm1NggrYBdv"
      },
      "execution_count": null,
      "outputs": []
    },
    {
      "cell_type": "code",
      "source": [
        "reducer = umap.UMAP(n_components = 2, random_state=42)\n",
        "reducedWordVecs = reducer.fit_transform(word_embeddings)"
      ],
      "metadata": {
        "id": "LgVS4DWHrM9E"
      },
      "execution_count": null,
      "outputs": []
    },
    {
      "cell_type": "code",
      "source": [
        "# Realizando redução de dimensão com PCA\n",
        "plotUMAP(reducedWordVecs, token2index, 'Word embeddings YELP (UMAP)')\n",
        "# plotPCA(word_embeddings, token2index, 'Word embeddings YELP (PCA)')\n",
        "# plotTSNE(word_embeddings, token2index, 'Word Vecs YELP dataset (t-SNE)')"
      ],
      "metadata": {
        "colab": {
          "base_uri": "https://localhost:8080/",
          "height": 408
        },
        "id": "REXDR9RGYDcE",
        "outputId": "d696289a-b81f-4198-fbaa-240e85ed42f4"
      },
      "execution_count": null,
      "outputs": [
        {
          "output_type": "error",
          "ename": "IndexError",
          "evalue": "ignored",
          "traceback": [
            "\u001b[0;31m---------------------------------------------------------------------------\u001b[0m",
            "\u001b[0;31mIndexError\u001b[0m                                Traceback (most recent call last)",
            "\u001b[0;32m<ipython-input-147-bcf2eedfde29>\u001b[0m in \u001b[0;36m<module>\u001b[0;34m\u001b[0m\n\u001b[1;32m      1\u001b[0m \u001b[0;31m# Realizando redução de dimensão com PCA\u001b[0m\u001b[0;34m\u001b[0m\u001b[0;34m\u001b[0m\u001b[0;34m\u001b[0m\u001b[0m\n\u001b[0;32m----> 2\u001b[0;31m \u001b[0mplotUMAP\u001b[0m\u001b[0;34m(\u001b[0m\u001b[0mreducedWordVecs\u001b[0m\u001b[0;34m,\u001b[0m \u001b[0mtoken2index\u001b[0m\u001b[0;34m,\u001b[0m \u001b[0;34m'Word embeddings YELP (UMAP)'\u001b[0m\u001b[0;34m)\u001b[0m\u001b[0;34m\u001b[0m\u001b[0;34m\u001b[0m\u001b[0m\n\u001b[0m\u001b[1;32m      3\u001b[0m \u001b[0;31m# plotPCA(word_embeddings, token2index, 'Word embeddings YELP (PCA)')\u001b[0m\u001b[0;34m\u001b[0m\u001b[0;34m\u001b[0m\u001b[0;34m\u001b[0m\u001b[0m\n\u001b[1;32m      4\u001b[0m \u001b[0;31m# plotTSNE(word_embeddings, token2index, 'Word Vecs YELP dataset (t-SNE)')\u001b[0m\u001b[0;34m\u001b[0m\u001b[0;34m\u001b[0m\u001b[0;34m\u001b[0m\u001b[0m\n",
            "\u001b[0;32m<ipython-input-145-5a4bef9cf37f>\u001b[0m in \u001b[0;36mplotUMAP\u001b[0;34m(reducedWordVecs, token2index, title, sample)\u001b[0m\n\u001b[1;32m     20\u001b[0m \u001b[0;32mdef\u001b[0m \u001b[0mplotUMAP\u001b[0m\u001b[0;34m(\u001b[0m\u001b[0mreducedWordVecs\u001b[0m \u001b[0;34m:\u001b[0m \u001b[0mnp\u001b[0m\u001b[0;34m.\u001b[0m\u001b[0mndarray\u001b[0m\u001b[0;34m,\u001b[0m \u001b[0mtoken2index\u001b[0m \u001b[0;34m:\u001b[0m \u001b[0mdict\u001b[0m\u001b[0;34m,\u001b[0m \u001b[0mtitle\u001b[0m \u001b[0;34m:\u001b[0m \u001b[0mstr\u001b[0m\u001b[0;34m,\u001b[0m \u001b[0msample\u001b[0m \u001b[0;34m=\u001b[0m \u001b[0;36m900\u001b[0m\u001b[0;34m)\u001b[0m\u001b[0;34m:\u001b[0m\u001b[0;34m\u001b[0m\u001b[0;34m\u001b[0m\u001b[0m\n\u001b[1;32m     21\u001b[0m \u001b[0;34m\u001b[0m\u001b[0m\n\u001b[0;32m---> 22\u001b[0;31m     \u001b[0mdfWordVecs\u001b[0m \u001b[0;34m=\u001b[0m \u001b[0mcreateWordVecsDataFrame\u001b[0m\u001b[0;34m(\u001b[0m\u001b[0mreducedWordVecs\u001b[0m\u001b[0;34m,\u001b[0m \u001b[0mtoken2index\u001b[0m\u001b[0;34m)\u001b[0m\u001b[0;34m\u001b[0m\u001b[0;34m\u001b[0m\u001b[0m\n\u001b[0m\u001b[1;32m     23\u001b[0m     \u001b[0minterativePlot\u001b[0m\u001b[0;34m(\u001b[0m\u001b[0mdfWordVecs\u001b[0m\u001b[0;34m.\u001b[0m\u001b[0msample\u001b[0m\u001b[0;34m(\u001b[0m\u001b[0msample\u001b[0m\u001b[0;34m,\u001b[0m \u001b[0mrandom_state\u001b[0m \u001b[0;34m=\u001b[0m \u001b[0;36m42\u001b[0m\u001b[0;34m)\u001b[0m\u001b[0;34m,\u001b[0m \u001b[0mtitle\u001b[0m \u001b[0;34m=\u001b[0m \u001b[0mtitle\u001b[0m\u001b[0;34m)\u001b[0m\u001b[0;34m\u001b[0m\u001b[0;34m\u001b[0m\u001b[0m\n\u001b[1;32m     24\u001b[0m \u001b[0;34m\u001b[0m\u001b[0m\n",
            "\u001b[0;32m<ipython-input-142-18766fcbdf9f>\u001b[0m in \u001b[0;36mcreateWordVecsDataFrame\u001b[0;34m(reducedWordVecs, token2index)\u001b[0m\n\u001b[1;32m      3\u001b[0m     \u001b[0mdictReducedWordVecs\u001b[0m \u001b[0;34m=\u001b[0m \u001b[0;34m{\u001b[0m\u001b[0;34m}\u001b[0m\u001b[0;34m\u001b[0m\u001b[0;34m\u001b[0m\u001b[0m\n\u001b[1;32m      4\u001b[0m     \u001b[0;32mfor\u001b[0m \u001b[0mword\u001b[0m\u001b[0;34m,\u001b[0m \u001b[0mindex\u001b[0m \u001b[0;32min\u001b[0m \u001b[0mtoken2index\u001b[0m\u001b[0;34m.\u001b[0m\u001b[0mitems\u001b[0m\u001b[0;34m(\u001b[0m\u001b[0;34m)\u001b[0m\u001b[0;34m:\u001b[0m\u001b[0;34m\u001b[0m\u001b[0;34m\u001b[0m\u001b[0m\n\u001b[0;32m----> 5\u001b[0;31m         \u001b[0mdictReducedWordVecs\u001b[0m\u001b[0;34m[\u001b[0m\u001b[0mword\u001b[0m\u001b[0;34m]\u001b[0m \u001b[0;34m=\u001b[0m \u001b[0mreducedWordVecs\u001b[0m\u001b[0;34m[\u001b[0m\u001b[0mindex\u001b[0m\u001b[0;34m]\u001b[0m\u001b[0;34m\u001b[0m\u001b[0;34m\u001b[0m\u001b[0m\n\u001b[0m\u001b[1;32m      6\u001b[0m \u001b[0;34m\u001b[0m\u001b[0m\n\u001b[1;32m      7\u001b[0m     \u001b[0;31m# Instanciando o dataframe a partir do dicionario criado acima\u001b[0m\u001b[0;34m\u001b[0m\u001b[0;34m\u001b[0m\u001b[0;34m\u001b[0m\u001b[0m\n",
            "\u001b[0;31mIndexError\u001b[0m: index 26975 is out of bounds for axis 0 with size 26975"
          ]
        }
      ]
    },
    {
      "cell_type": "markdown",
      "source": [
        "##### Dendograma Agrupamento Hierárquico"
      ],
      "metadata": {
        "id": "cZ0Lb-mTaA5O"
      }
    },
    {
      "cell_type": "code",
      "source": [
        "from scipy.cluster.hierarchy import dendrogram, linkage\n",
        "\n",
        "# Cria um conjunto de palavras considerando as de referência juntamente com as suas n mais similares\n",
        "def sampleWords(referenceWords, wordVecs, token2index, index2token, n = 5):\n",
        "    sample = set()\n",
        "    for word in referenceWords:\n",
        "        sample.add(word)\n",
        "        similarityContextScores = wordsSimilarity(word, wordVecs, token2index, index2token, n)\n",
        "        for context, _ in similarityContextScores:\n",
        "            sample.add(context)\n",
        "            \n",
        "    return sample\n",
        "\n",
        "def plotDendogram(words, embeddings, title = None, xlabel = None, ylabel = None, figsize = (25,5)):\n",
        "    plt.figure(figsize = figsize)\n",
        "    plt.title(title)\n",
        "    plt.xlabel(xlabel)\n",
        "    plt.ylabel(ylabel)\n",
        "    \n",
        "    # clustering do tipo aglomerativo, usando como critério de agrupamento \n",
        "    # a média da distância entre os pontos de um par de cluster, usando o cosseno \n",
        "    # como métrica de distância entre os pontos\n",
        "    link = linkage(embeddings, method = 'average', metric = 'cosine')\n",
        "    \n",
        "    dendrogram(\n",
        "        link,\n",
        "        labels = words,\n",
        "        leaf_rotation=90.,  \n",
        "        leaf_font_size=10.,  \n",
        "        orientation='top',\n",
        "    )\n",
        "    \n",
        "    plt.show()"
      ],
      "metadata": {
        "id": "C6nsE30baG7k"
      },
      "execution_count": null,
      "outputs": []
    },
    {
      "cell_type": "code",
      "source": [
        "def visualizeDendogram(\n",
        "    referenceWords : list, wordVecs : np.ndarray, token2index : dict, \n",
        "    index2token : dict, title = None, xlabel = None, ylabel = None, figsize = (25,5)\n",
        "):\n",
        "    sample = sampleWords(referenceWords, wordVecs, token2index, index2token)\n",
        "\n",
        "    # Obtem os respectivos Word Embeddings\n",
        "    embeddings = [wordVecs[token2index[word]] for word in sample]\n",
        "    \n",
        "    plotDendogram(list(sample), embeddings, title = 'Dendograma Agrupamento Hierárquico', \n",
        "              ylabel = 'distância', xlabel = 'token')"
      ],
      "metadata": {
        "id": "euhY1ncqZ9eV"
      },
      "execution_count": null,
      "outputs": []
    },
    {
      "cell_type": "code",
      "source": [
        "visualizeDendogram(examples, word_embeddings, token2index, index2token,\n",
        "                   title = 'Dendograma Agrupamento Hierárquico Brás Cubas', \n",
        "                   ylabel = 'distância', xlabel = 'token')"
      ],
      "metadata": {
        "id": "UeEeXHspaKzx"
      },
      "execution_count": null,
      "outputs": []
    }
  ]
}